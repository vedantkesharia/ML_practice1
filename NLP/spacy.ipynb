{
 "cells": [
  {
   "cell_type": "code",
   "execution_count": 1,
   "metadata": {},
   "outputs": [],
   "source": [
    "import spacy"
   ]
  },
  {
   "cell_type": "code",
   "execution_count": 2,
   "metadata": {},
   "outputs": [
    {
     "name": "stdout",
     "output_type": "stream",
     "text": [
      "\u001b[38;5;2m✔ Download and installation successful\u001b[0m\n",
      "You can now load the package via spacy.load('en_core_web_sm')\n",
      "\u001b[38;5;3m⚠ Restart to reload dependencies\u001b[0m\n",
      "If you are in a Jupyter or Colab notebook, you may need to restart Python in\n",
      "order to load all the package's dependencies. You can do this by selecting the\n",
      "'Restart kernel' or 'Restart runtime' option.\n"
     ]
    }
   ],
   "source": [
    "spacy.cli.download('en_core_web_sm')"
   ]
  },
  {
   "cell_type": "code",
   "execution_count": 3,
   "metadata": {},
   "outputs": [],
   "source": [
    "nlp = spacy.load('en_core_web_sm')"
   ]
  },
  {
   "cell_type": "markdown",
   "metadata": {},
   "source": [
    "# Tokenization"
   ]
  },
  {
   "cell_type": "code",
   "execution_count": 4,
   "metadata": {},
   "outputs": [],
   "source": [
    "doc = nlp(\"Apple is looking to buy UK startup for $1 billion\")"
   ]
  },
  {
   "cell_type": "code",
   "execution_count": 5,
   "metadata": {},
   "outputs": [
    {
     "data": {
      "text/plain": [
       "Apple is looking to buy UK startup for $1 billion"
      ]
     },
     "execution_count": 5,
     "metadata": {},
     "output_type": "execute_result"
    }
   ],
   "source": [
    "doc"
   ]
  },
  {
   "cell_type": "code",
   "execution_count": 6,
   "metadata": {},
   "outputs": [
    {
     "name": "stdout",
     "output_type": "stream",
     "text": [
      "Apple\n",
      "is\n",
      "looking\n",
      "to\n",
      "buy\n",
      "UK\n",
      "startup\n",
      "for\n",
      "$\n",
      "1\n",
      "billion\n"
     ]
    }
   ],
   "source": [
    "for i in doc:\n",
    "    print(i.text)   "
   ]
  },
  {
   "cell_type": "markdown",
   "metadata": {},
   "source": [
    "# Adding special case tokenization rule"
   ]
  },
  {
   "cell_type": "code",
   "execution_count": 4,
   "metadata": {},
   "outputs": [],
   "source": [
    "from spacy.symbols import ORTH"
   ]
  },
  {
   "cell_type": "code",
   "execution_count": 8,
   "metadata": {},
   "outputs": [
    {
     "data": {
      "text/plain": [
       "gimme that"
      ]
     },
     "execution_count": 8,
     "metadata": {},
     "output_type": "execute_result"
    }
   ],
   "source": [
    "doc2 = nlp(\"gimme that\")\n",
    "doc2"
   ]
  },
  {
   "cell_type": "code",
   "execution_count": 9,
   "metadata": {},
   "outputs": [
    {
     "name": "stdout",
     "output_type": "stream",
     "text": [
      "gimme\n",
      "that\n"
     ]
    }
   ],
   "source": [
    "for token in doc2:\n",
    "    print(token.text)"
   ]
  },
  {
   "cell_type": "code",
   "execution_count": 12,
   "metadata": {},
   "outputs": [],
   "source": [
    "special_case = [{ORTH: \"gim\"}, {ORTH: \"me\"}]"
   ]
  },
  {
   "cell_type": "code",
   "execution_count": 13,
   "metadata": {},
   "outputs": [
    {
     "data": {
      "text/plain": [
       "[{65: 'gim'}, {65: 'me'}]"
      ]
     },
     "execution_count": 13,
     "metadata": {},
     "output_type": "execute_result"
    }
   ],
   "source": [
    "special_case"
   ]
  },
  {
   "cell_type": "code",
   "execution_count": 14,
   "metadata": {},
   "outputs": [],
   "source": [
    "nlp.tokenizer.add_special_case(\"gimme\", special_case)"
   ]
  },
  {
   "cell_type": "code",
   "execution_count": 15,
   "metadata": {},
   "outputs": [
    {
     "name": "stdout",
     "output_type": "stream",
     "text": [
      "gim\n",
      "me\n",
      "that\n"
     ]
    }
   ],
   "source": [
    "for token in nlp(\"gimme that\"):\n",
    "    print(token.text)"
   ]
  },
  {
   "cell_type": "markdown",
   "metadata": {},
   "source": [
    "# Parts Of Speech(POS)"
   ]
  },
  {
   "cell_type": "code",
   "execution_count": 5,
   "metadata": {},
   "outputs": [],
   "source": [
    "from spacy import displacy"
   ]
  },
  {
   "cell_type": "code",
   "execution_count": 17,
   "metadata": {},
   "outputs": [
    {
     "data": {
      "text/plain": [
       "Python is a programming language. Current year is 2024. Dollar symbol is $"
      ]
     },
     "execution_count": 17,
     "metadata": {},
     "output_type": "execute_result"
    }
   ],
   "source": [
    "doc3 = nlp(\"Python is a programming language. Current year is 2024. Dollar symbol is $\")\n",
    "doc3"
   ]
  },
  {
   "cell_type": "code",
   "execution_count": 18,
   "metadata": {},
   "outputs": [
    {
     "name": "stdout",
     "output_type": "stream",
     "text": [
      "Python\n",
      "is\n",
      "a\n",
      "programming\n",
      "language\n",
      ".\n",
      "Current\n",
      "year\n",
      "is\n",
      "2024\n",
      ".\n",
      "Dollar\n",
      "symbol\n",
      "is\n",
      "$\n"
     ]
    }
   ],
   "source": [
    "for token in doc3:\n",
    "    print(token.text)"
   ]
  },
  {
   "cell_type": "code",
   "execution_count": 19,
   "metadata": {},
   "outputs": [
    {
     "name": "stdout",
     "output_type": "stream",
     "text": [
      "Python -> PROPN\n",
      "is -> AUX\n",
      "a -> DET\n",
      "programming -> NOUN\n",
      "language -> NOUN\n",
      ". -> PUNCT\n",
      "Current -> ADJ\n",
      "year -> NOUN\n",
      "is -> AUX\n",
      "2024 -> NUM\n",
      ". -> PUNCT\n",
      "Dollar -> NOUN\n",
      "symbol -> NOUN\n",
      "is -> AUX\n",
      "$ -> SYM\n"
     ]
    }
   ],
   "source": [
    "for token in doc3:\n",
    "    print(token, \"->\", token.pos_)"
   ]
  },
  {
   "cell_type": "code",
   "execution_count": 20,
   "metadata": {},
   "outputs": [
    {
     "name": "stdout",
     "output_type": "stream",
     "text": [
      "Python -> 96\n",
      "is -> 87\n",
      "a -> 90\n",
      "programming -> 92\n",
      "language -> 92\n",
      ". -> 97\n",
      "Current -> 84\n",
      "year -> 92\n",
      "is -> 87\n",
      "2024 -> 93\n",
      ". -> 97\n",
      "Dollar -> 92\n",
      "symbol -> 92\n",
      "is -> 87\n",
      "$ -> 99\n"
     ]
    }
   ],
   "source": [
    "for token in doc3:\n",
    "    print(token, \"->\", token.pos)"
   ]
  },
  {
   "cell_type": "markdown",
   "metadata": {},
   "source": [
    "We see that dollar symbol both have number 92 -> ie they both are noun(same pos) and noun is denoted by number 92"
   ]
  },
  {
   "cell_type": "code",
   "execution_count": 21,
   "metadata": {},
   "outputs": [
    {
     "name": "stderr",
     "output_type": "stream",
     "text": [
      "C:\\Users\\Vedant Kesharia\\AppData\\Local\\Packages\\PythonSoftwareFoundation.Python.3.12_qbz5n2kfra8p0\\LocalCache\\local-packages\\Python312\\site-packages\\spacy\\displacy\\__init__.py:106: UserWarning: [W011] It looks like you're calling displacy.serve from within a Jupyter notebook or a similar environment. This likely means you're already running a local web server, so there's no need to make displaCy start another one. Instead, you should be able to replace displacy.serve with displacy.render to show the visualization.\n",
      "  warnings.warn(Warnings.W011)\n"
     ]
    },
    {
     "data": {
      "text/html": [
       "<span class=\"tex2jax_ignore\"><!DOCTYPE html>\n",
       "<html lang=\"en\">\n",
       "    <head>\n",
       "        <title>displaCy</title>\n",
       "    </head>\n",
       "\n",
       "    <body style=\"font-size: 16px; font-family: -apple-system, BlinkMacSystemFont, 'Segoe UI', Helvetica, Arial, sans-serif, 'Apple Color Emoji', 'Segoe UI Emoji', 'Segoe UI Symbol'; padding: 4rem 2rem; direction: ltr\">\n",
       "<figure style=\"margin-bottom: 6rem\">\n",
       "<svg xmlns=\"http://www.w3.org/2000/svg\" xmlns:xlink=\"http://www.w3.org/1999/xlink\" xml:lang=\"en\" id=\"68d719078cb34ac3af91bfea08110daa-0\" class=\"displacy\" width=\"2325\" height=\"399.5\" direction=\"ltr\" style=\"max-width: none; height: 399.5px; color: #000000; background: #ffffff; font-family: Arial; direction: ltr\">\n",
       "<text class=\"displacy-token\" fill=\"currentColor\" text-anchor=\"middle\" y=\"309.5\">\n",
       "    <tspan class=\"displacy-word\" fill=\"currentColor\" x=\"50\">Python</tspan>\n",
       "    <tspan class=\"displacy-tag\" dy=\"2em\" fill=\"currentColor\" x=\"50\">PROPN</tspan>\n",
       "</text>\n",
       "\n",
       "<text class=\"displacy-token\" fill=\"currentColor\" text-anchor=\"middle\" y=\"309.5\">\n",
       "    <tspan class=\"displacy-word\" fill=\"currentColor\" x=\"225\">is</tspan>\n",
       "    <tspan class=\"displacy-tag\" dy=\"2em\" fill=\"currentColor\" x=\"225\">AUX</tspan>\n",
       "</text>\n",
       "\n",
       "<text class=\"displacy-token\" fill=\"currentColor\" text-anchor=\"middle\" y=\"309.5\">\n",
       "    <tspan class=\"displacy-word\" fill=\"currentColor\" x=\"400\">a</tspan>\n",
       "    <tspan class=\"displacy-tag\" dy=\"2em\" fill=\"currentColor\" x=\"400\">DET</tspan>\n",
       "</text>\n",
       "\n",
       "<text class=\"displacy-token\" fill=\"currentColor\" text-anchor=\"middle\" y=\"309.5\">\n",
       "    <tspan class=\"displacy-word\" fill=\"currentColor\" x=\"575\">programming</tspan>\n",
       "    <tspan class=\"displacy-tag\" dy=\"2em\" fill=\"currentColor\" x=\"575\">NOUN</tspan>\n",
       "</text>\n",
       "\n",
       "<text class=\"displacy-token\" fill=\"currentColor\" text-anchor=\"middle\" y=\"309.5\">\n",
       "    <tspan class=\"displacy-word\" fill=\"currentColor\" x=\"750\">language.</tspan>\n",
       "    <tspan class=\"displacy-tag\" dy=\"2em\" fill=\"currentColor\" x=\"750\">NOUN</tspan>\n",
       "</text>\n",
       "\n",
       "<text class=\"displacy-token\" fill=\"currentColor\" text-anchor=\"middle\" y=\"309.5\">\n",
       "    <tspan class=\"displacy-word\" fill=\"currentColor\" x=\"925\">Current</tspan>\n",
       "    <tspan class=\"displacy-tag\" dy=\"2em\" fill=\"currentColor\" x=\"925\">ADJ</tspan>\n",
       "</text>\n",
       "\n",
       "<text class=\"displacy-token\" fill=\"currentColor\" text-anchor=\"middle\" y=\"309.5\">\n",
       "    <tspan class=\"displacy-word\" fill=\"currentColor\" x=\"1100\">year</tspan>\n",
       "    <tspan class=\"displacy-tag\" dy=\"2em\" fill=\"currentColor\" x=\"1100\">NOUN</tspan>\n",
       "</text>\n",
       "\n",
       "<text class=\"displacy-token\" fill=\"currentColor\" text-anchor=\"middle\" y=\"309.5\">\n",
       "    <tspan class=\"displacy-word\" fill=\"currentColor\" x=\"1275\">is</tspan>\n",
       "    <tspan class=\"displacy-tag\" dy=\"2em\" fill=\"currentColor\" x=\"1275\">AUX</tspan>\n",
       "</text>\n",
       "\n",
       "<text class=\"displacy-token\" fill=\"currentColor\" text-anchor=\"middle\" y=\"309.5\">\n",
       "    <tspan class=\"displacy-word\" fill=\"currentColor\" x=\"1450\">2024.</tspan>\n",
       "    <tspan class=\"displacy-tag\" dy=\"2em\" fill=\"currentColor\" x=\"1450\">NUM</tspan>\n",
       "</text>\n",
       "\n",
       "<text class=\"displacy-token\" fill=\"currentColor\" text-anchor=\"middle\" y=\"309.5\">\n",
       "    <tspan class=\"displacy-word\" fill=\"currentColor\" x=\"1625\">Dollar</tspan>\n",
       "    <tspan class=\"displacy-tag\" dy=\"2em\" fill=\"currentColor\" x=\"1625\">NOUN</tspan>\n",
       "</text>\n",
       "\n",
       "<text class=\"displacy-token\" fill=\"currentColor\" text-anchor=\"middle\" y=\"309.5\">\n",
       "    <tspan class=\"displacy-word\" fill=\"currentColor\" x=\"1800\">symbol</tspan>\n",
       "    <tspan class=\"displacy-tag\" dy=\"2em\" fill=\"currentColor\" x=\"1800\">NOUN</tspan>\n",
       "</text>\n",
       "\n",
       "<text class=\"displacy-token\" fill=\"currentColor\" text-anchor=\"middle\" y=\"309.5\">\n",
       "    <tspan class=\"displacy-word\" fill=\"currentColor\" x=\"1975\">is</tspan>\n",
       "    <tspan class=\"displacy-tag\" dy=\"2em\" fill=\"currentColor\" x=\"1975\">AUX</tspan>\n",
       "</text>\n",
       "\n",
       "<text class=\"displacy-token\" fill=\"currentColor\" text-anchor=\"middle\" y=\"309.5\">\n",
       "    <tspan class=\"displacy-word\" fill=\"currentColor\" x=\"2150\">$</tspan>\n",
       "    <tspan class=\"displacy-tag\" dy=\"2em\" fill=\"currentColor\" x=\"2150\">SYM</tspan>\n",
       "</text>\n",
       "\n",
       "<g class=\"displacy-arrow\">\n",
       "    <path class=\"displacy-arc\" id=\"arrow-68d719078cb34ac3af91bfea08110daa-0-0\" stroke-width=\"2px\" d=\"M70,264.5 C70,177.0 215.0,177.0 215.0,264.5\" fill=\"none\" stroke=\"currentColor\"/>\n",
       "    <text dy=\"1.25em\" style=\"font-size: 0.8em; letter-spacing: 1px\">\n",
       "        <textPath xlink:href=\"#arrow-68d719078cb34ac3af91bfea08110daa-0-0\" class=\"displacy-label\" startOffset=\"50%\" side=\"left\" fill=\"currentColor\" text-anchor=\"middle\">nsubj</textPath>\n",
       "    </text>\n",
       "    <path class=\"displacy-arrowhead\" d=\"M70,266.5 L62,254.5 78,254.5\" fill=\"currentColor\"/>\n",
       "</g>\n",
       "\n",
       "<g class=\"displacy-arrow\">\n",
       "    <path class=\"displacy-arc\" id=\"arrow-68d719078cb34ac3af91bfea08110daa-0-1\" stroke-width=\"2px\" d=\"M420,264.5 C420,89.5 745.0,89.5 745.0,264.5\" fill=\"none\" stroke=\"currentColor\"/>\n",
       "    <text dy=\"1.25em\" style=\"font-size: 0.8em; letter-spacing: 1px\">\n",
       "        <textPath xlink:href=\"#arrow-68d719078cb34ac3af91bfea08110daa-0-1\" class=\"displacy-label\" startOffset=\"50%\" side=\"left\" fill=\"currentColor\" text-anchor=\"middle\">det</textPath>\n",
       "    </text>\n",
       "    <path class=\"displacy-arrowhead\" d=\"M420,266.5 L412,254.5 428,254.5\" fill=\"currentColor\"/>\n",
       "</g>\n",
       "\n",
       "<g class=\"displacy-arrow\">\n",
       "    <path class=\"displacy-arc\" id=\"arrow-68d719078cb34ac3af91bfea08110daa-0-2\" stroke-width=\"2px\" d=\"M595,264.5 C595,177.0 740.0,177.0 740.0,264.5\" fill=\"none\" stroke=\"currentColor\"/>\n",
       "    <text dy=\"1.25em\" style=\"font-size: 0.8em; letter-spacing: 1px\">\n",
       "        <textPath xlink:href=\"#arrow-68d719078cb34ac3af91bfea08110daa-0-2\" class=\"displacy-label\" startOffset=\"50%\" side=\"left\" fill=\"currentColor\" text-anchor=\"middle\">compound</textPath>\n",
       "    </text>\n",
       "    <path class=\"displacy-arrowhead\" d=\"M595,266.5 L587,254.5 603,254.5\" fill=\"currentColor\"/>\n",
       "</g>\n",
       "\n",
       "<g class=\"displacy-arrow\">\n",
       "    <path class=\"displacy-arc\" id=\"arrow-68d719078cb34ac3af91bfea08110daa-0-3\" stroke-width=\"2px\" d=\"M245,264.5 C245,2.0 750.0,2.0 750.0,264.5\" fill=\"none\" stroke=\"currentColor\"/>\n",
       "    <text dy=\"1.25em\" style=\"font-size: 0.8em; letter-spacing: 1px\">\n",
       "        <textPath xlink:href=\"#arrow-68d719078cb34ac3af91bfea08110daa-0-3\" class=\"displacy-label\" startOffset=\"50%\" side=\"left\" fill=\"currentColor\" text-anchor=\"middle\">attr</textPath>\n",
       "    </text>\n",
       "    <path class=\"displacy-arrowhead\" d=\"M750.0,266.5 L758.0,254.5 742.0,254.5\" fill=\"currentColor\"/>\n",
       "</g>\n",
       "\n",
       "<g class=\"displacy-arrow\">\n",
       "    <path class=\"displacy-arc\" id=\"arrow-68d719078cb34ac3af91bfea08110daa-0-4\" stroke-width=\"2px\" d=\"M945,264.5 C945,177.0 1090.0,177.0 1090.0,264.5\" fill=\"none\" stroke=\"currentColor\"/>\n",
       "    <text dy=\"1.25em\" style=\"font-size: 0.8em; letter-spacing: 1px\">\n",
       "        <textPath xlink:href=\"#arrow-68d719078cb34ac3af91bfea08110daa-0-4\" class=\"displacy-label\" startOffset=\"50%\" side=\"left\" fill=\"currentColor\" text-anchor=\"middle\">amod</textPath>\n",
       "    </text>\n",
       "    <path class=\"displacy-arrowhead\" d=\"M945,266.5 L937,254.5 953,254.5\" fill=\"currentColor\"/>\n",
       "</g>\n",
       "\n",
       "<g class=\"displacy-arrow\">\n",
       "    <path class=\"displacy-arc\" id=\"arrow-68d719078cb34ac3af91bfea08110daa-0-5\" stroke-width=\"2px\" d=\"M1120,264.5 C1120,177.0 1265.0,177.0 1265.0,264.5\" fill=\"none\" stroke=\"currentColor\"/>\n",
       "    <text dy=\"1.25em\" style=\"font-size: 0.8em; letter-spacing: 1px\">\n",
       "        <textPath xlink:href=\"#arrow-68d719078cb34ac3af91bfea08110daa-0-5\" class=\"displacy-label\" startOffset=\"50%\" side=\"left\" fill=\"currentColor\" text-anchor=\"middle\">nsubj</textPath>\n",
       "    </text>\n",
       "    <path class=\"displacy-arrowhead\" d=\"M1120,266.5 L1112,254.5 1128,254.5\" fill=\"currentColor\"/>\n",
       "</g>\n",
       "\n",
       "<g class=\"displacy-arrow\">\n",
       "    <path class=\"displacy-arc\" id=\"arrow-68d719078cb34ac3af91bfea08110daa-0-6\" stroke-width=\"2px\" d=\"M1295,264.5 C1295,177.0 1440.0,177.0 1440.0,264.5\" fill=\"none\" stroke=\"currentColor\"/>\n",
       "    <text dy=\"1.25em\" style=\"font-size: 0.8em; letter-spacing: 1px\">\n",
       "        <textPath xlink:href=\"#arrow-68d719078cb34ac3af91bfea08110daa-0-6\" class=\"displacy-label\" startOffset=\"50%\" side=\"left\" fill=\"currentColor\" text-anchor=\"middle\">attr</textPath>\n",
       "    </text>\n",
       "    <path class=\"displacy-arrowhead\" d=\"M1440.0,266.5 L1448.0,254.5 1432.0,254.5\" fill=\"currentColor\"/>\n",
       "</g>\n",
       "\n",
       "<g class=\"displacy-arrow\">\n",
       "    <path class=\"displacy-arc\" id=\"arrow-68d719078cb34ac3af91bfea08110daa-0-7\" stroke-width=\"2px\" d=\"M1645,264.5 C1645,177.0 1790.0,177.0 1790.0,264.5\" fill=\"none\" stroke=\"currentColor\"/>\n",
       "    <text dy=\"1.25em\" style=\"font-size: 0.8em; letter-spacing: 1px\">\n",
       "        <textPath xlink:href=\"#arrow-68d719078cb34ac3af91bfea08110daa-0-7\" class=\"displacy-label\" startOffset=\"50%\" side=\"left\" fill=\"currentColor\" text-anchor=\"middle\">compound</textPath>\n",
       "    </text>\n",
       "    <path class=\"displacy-arrowhead\" d=\"M1645,266.5 L1637,254.5 1653,254.5\" fill=\"currentColor\"/>\n",
       "</g>\n",
       "\n",
       "<g class=\"displacy-arrow\">\n",
       "    <path class=\"displacy-arc\" id=\"arrow-68d719078cb34ac3af91bfea08110daa-0-8\" stroke-width=\"2px\" d=\"M1820,264.5 C1820,177.0 1965.0,177.0 1965.0,264.5\" fill=\"none\" stroke=\"currentColor\"/>\n",
       "    <text dy=\"1.25em\" style=\"font-size: 0.8em; letter-spacing: 1px\">\n",
       "        <textPath xlink:href=\"#arrow-68d719078cb34ac3af91bfea08110daa-0-8\" class=\"displacy-label\" startOffset=\"50%\" side=\"left\" fill=\"currentColor\" text-anchor=\"middle\">nsubj</textPath>\n",
       "    </text>\n",
       "    <path class=\"displacy-arrowhead\" d=\"M1820,266.5 L1812,254.5 1828,254.5\" fill=\"currentColor\"/>\n",
       "</g>\n",
       "\n",
       "<g class=\"displacy-arrow\">\n",
       "    <path class=\"displacy-arc\" id=\"arrow-68d719078cb34ac3af91bfea08110daa-0-9\" stroke-width=\"2px\" d=\"M1995,264.5 C1995,177.0 2140.0,177.0 2140.0,264.5\" fill=\"none\" stroke=\"currentColor\"/>\n",
       "    <text dy=\"1.25em\" style=\"font-size: 0.8em; letter-spacing: 1px\">\n",
       "        <textPath xlink:href=\"#arrow-68d719078cb34ac3af91bfea08110daa-0-9\" class=\"displacy-label\" startOffset=\"50%\" side=\"left\" fill=\"currentColor\" text-anchor=\"middle\">punct</textPath>\n",
       "    </text>\n",
       "    <path class=\"displacy-arrowhead\" d=\"M2140.0,266.5 L2148.0,254.5 2132.0,254.5\" fill=\"currentColor\"/>\n",
       "</g>\n",
       "</svg>\n",
       "</figure>\n",
       "</body>\n",
       "</html></span>"
      ],
      "text/plain": [
       "<IPython.core.display.HTML object>"
      ]
     },
     "metadata": {},
     "output_type": "display_data"
    },
    {
     "name": "stdout",
     "output_type": "stream",
     "text": [
      "\n",
      "Using the 'dep' visualizer\n",
      "Serving on http://0.0.0.0:5000 ...\n",
      "\n"
     ]
    }
   ],
   "source": [
    "displacy.serve(doc3, style=\"dep\") #to display in form of chart"
   ]
  },
  {
   "cell_type": "markdown",
   "metadata": {},
   "source": [
    "# Stopwords"
   ]
  },
  {
   "cell_type": "code",
   "execution_count": 6,
   "metadata": {},
   "outputs": [],
   "source": [
    "from spacy.lang.en.stop_words import STOP_WORDS"
   ]
  },
  {
   "cell_type": "code",
   "execution_count": 7,
   "metadata": {},
   "outputs": [
    {
     "name": "stdout",
     "output_type": "stream",
     "text": [
      "{'side', 'twenty', 'top', 'forty', 'put', 'which', 'any', 'his', 'nor', 'nevertheless', 'due', 'hereafter', 'ca', 'of', 'seem', 'in', 'other', 'whenever', 'the', 'would', 'out', '‘ve', 'always', 'various', 'though', 'still', 'there', 'within', 'beforehand', 'to', 'with', 'if', 'nobody', 'see', 'first', 'from', 'he', \"'m\", 'much', 'fifteen', 'nothing', 'say', 'sixty', \"'d\", 'else', 'everyone', 'really', 'anything', 'under', 'does', 'make', 'after', \"n't\", 'full', 'only', '’ll', 'yet', 'none', 're', 'three', '‘re', 'wherein', 'hence', 'beyond', 'get', 'even', 'anyway', 'up', 'namely', 'becoming', 'off', 'hereby', '’re', 'further', 'since', 'without', 'your', 'both', 'either', 'so', 'them', 'others', 'i', 'against', 'neither', 'between', 'six', 'alone', 'whither', 'nowhere', 'for', 'thereupon', 'behind', 'below', 'part', 'herein', '‘ll', 'take', 'be', 'has', 'often', 'unless', 'became', 'here', 'thence', 'were', '‘s', 'indeed', 'hereupon', 'might', 'anywhere', 'an', '‘m', \"'ve\", 'over', \"'s\", 'more', 'their', 'through', 'itself', 'just', 'whom', 'somehow', 'therein', 'been', 'own', 'same', 'you', 'its', 'whether', 'again', 'thereafter', 'yours', 'almost', 'go', 'also', 'may', 'latter', 'however', 'sometimes', 'must', 'during', 'four', 'yourselves', 'amongst', 'onto', 'afterwards', 'what', 'me', 'all', 'least', 'twelve', 'few', 'noone', 'can', 'down', 'most', 'why', 'rather', 'made', 'us', 'perhaps', 'everywhere', 'themselves', 'nine', 'done', 'someone', 'could', 'no', 'therefore', 'as', 'ten', 'and', 'n‘t', 'across', 'her', 'among', 'upon', 'wherever', 'before', 'while', 'formerly', 'on', 'our', 'about', 'beside', 'serious', 'amount', 'becomes', 'that', 'become', 'name', 'once', 'whence', 'using', 'towards', 'whose', 'now', 'everything', 'well', 'less', 'used', 'third', 'toward', 'whereafter', 'had', 'mostly', 'something', 'one', 'several', 'show', 'being', \"'ll\", 'please', 'front', \"'re\", 'where', 'another', 'around', 'whoever', 'herself', 'then', 'this', 'otherwise', 'fifty', 'doing', 'are', 'a', 'did', 'former', 'will', 'except', 'together', 'until', '’ve', 'myself', 'throughout', 'besides', 'along', 'by', 'it', 'should', 'move', 'sometime', 'thus', '’d', 'n’t', 'never', '’s', 'was', 'ours', 'hundred', 'give', 'how', 'meanwhile', 'not', 'bottom', 'my', 'at', 'somewhere', 'via', 'seems', 'him', 'or', 'these', 'than', 'when', 'is', 'whatever', 'two', 'last', 'elsewhere', 'eight', 'every', 'although', 'cannot', 'moreover', 'five', 'some', 'empty', 'each', 'already', 'whereby', 'call', 'do', 'mine', 'ourselves', 'she', 'latterly', 'very', 'per', 'we', '’m', 'regarding', 'thereby', 'yourself', 'above', 'ever', 'many', 'they', 'whole', 'enough', 'am', 'eleven', 'whereupon', 'anyhow', 'because', 'who', 'whereas', 'thru', 'anyone', 'himself', 'too', 'such', 'hers', 'those', 'quite', 'into', 'next', 'keep', 'seeming', 'have', 'but', 'back', '‘d', 'seemed'}\n"
     ]
    }
   ],
   "source": [
    "print(STOP_WORDS)"
   ]
  },
  {
   "cell_type": "code",
   "execution_count": 9,
   "metadata": {},
   "outputs": [
    {
     "data": {
      "text/plain": [
       "True"
      ]
     },
     "execution_count": 9,
     "metadata": {},
     "output_type": "execute_result"
    }
   ],
   "source": [
    "\"in\" in STOP_WORDS #as \"in\" is a stop word it prints True"
   ]
  },
  {
   "cell_type": "code",
   "execution_count": 10,
   "metadata": {},
   "outputs": [
    {
     "data": {
      "text/plain": [
       "False"
      ]
     },
     "execution_count": 10,
     "metadata": {},
     "output_type": "execute_result"
    }
   ],
   "source": [
    "\"apple\" in STOP_WORDS #as \"apple\" is a not a stop word it prints False"
   ]
  },
  {
   "cell_type": "code",
   "execution_count": 11,
   "metadata": {},
   "outputs": [
    {
     "data": {
      "text/plain": [
       "False"
      ]
     },
     "execution_count": 11,
     "metadata": {},
     "output_type": "execute_result"
    }
   ],
   "source": [
    "nlp.vocab['apple'].is_stop #other method to check if a word is a stop word"
   ]
  },
  {
   "cell_type": "code",
   "execution_count": 12,
   "metadata": {},
   "outputs": [],
   "source": [
    "doc4 = nlp(\"Python is a programming language. I am learning Natural Language Processing\")"
   ]
  },
  {
   "cell_type": "code",
   "execution_count": 13,
   "metadata": {},
   "outputs": [
    {
     "data": {
      "text/plain": [
       "Python is a programming language. I am learning Natural Language Processing"
      ]
     },
     "execution_count": 13,
     "metadata": {},
     "output_type": "execute_result"
    }
   ],
   "source": [
    "doc4"
   ]
  },
  {
   "cell_type": "code",
   "execution_count": 14,
   "metadata": {},
   "outputs": [
    {
     "name": "stdout",
     "output_type": "stream",
     "text": [
      "Python\n",
      "is\n",
      "a\n",
      "programming\n",
      "language\n",
      ".\n",
      "I\n",
      "am\n",
      "learning\n",
      "Natural\n",
      "Language\n",
      "Processing\n"
     ]
    }
   ],
   "source": [
    "for token in doc4:\n",
    "    print(token.text)"
   ]
  },
  {
   "cell_type": "code",
   "execution_count": 16,
   "metadata": {},
   "outputs": [
    {
     "name": "stdout",
     "output_type": "stream",
     "text": [
      "is\n",
      "a\n",
      "I\n",
      "am\n"
     ]
    }
   ],
   "source": [
    "for token in doc4:\n",
    "    if token.is_stop == True: #if token is a stop word\n",
    "        print(token.text)"
   ]
  },
  {
   "cell_type": "code",
   "execution_count": 17,
   "metadata": {},
   "outputs": [
    {
     "name": "stdout",
     "output_type": "stream",
     "text": [
      "Python\n",
      "programming\n",
      "language\n",
      ".\n",
      "learning\n",
      "Natural\n",
      "Language\n",
      "Processing\n"
     ]
    }
   ],
   "source": [
    "for token in doc4:\n",
    "    if token.is_stop == False: #if token is not a stop word\n",
    "        print(token.text)"
   ]
  },
  {
   "cell_type": "markdown",
   "metadata": {},
   "source": [
    "# Name Entity Recognition"
   ]
  },
  {
   "cell_type": "code",
   "execution_count": 18,
   "metadata": {},
   "outputs": [
    {
     "data": {
      "text/plain": [
       "Apple is looking at buying U.K. startup for $1 billion"
      ]
     },
     "execution_count": 18,
     "metadata": {},
     "output_type": "execute_result"
    }
   ],
   "source": [
    "doc5 = nlp(\"Apple is looking at buying U.K. startup for $1 billion\")\n",
    "doc5"
   ]
  },
  {
   "cell_type": "code",
   "execution_count": 19,
   "metadata": {},
   "outputs": [
    {
     "name": "stdout",
     "output_type": "stream",
     "text": [
      "Apple -> PROPN\n",
      "is -> AUX\n",
      "looking -> VERB\n",
      "at -> ADP\n",
      "buying -> VERB\n",
      "U.K. -> PROPN\n",
      "startup -> NOUN\n",
      "for -> ADP\n",
      "$ -> SYM\n",
      "1 -> NUM\n",
      "billion -> NUM\n"
     ]
    }
   ],
   "source": [
    "for token in doc5:\n",
    "    print(token.text, \"->\", token.pos_)"
   ]
  },
  {
   "cell_type": "code",
   "execution_count": 21,
   "metadata": {},
   "outputs": [],
   "source": [
    "from spacy import displacy"
   ]
  },
  {
   "cell_type": "code",
   "execution_count": 22,
   "metadata": {},
   "outputs": [
    {
     "data": {
      "text/html": [
       "<span class=\"tex2jax_ignore\"><div class=\"entities\" style=\"line-height: 2.5; direction: ltr\">\n",
       "<mark class=\"entity\" style=\"background: #7aecec; padding: 0.45em 0.6em; margin: 0 0.25em; line-height: 1; border-radius: 0.35em;\">\n",
       "    Apple\n",
       "    <span style=\"font-size: 0.8em; font-weight: bold; line-height: 1; border-radius: 0.35em; vertical-align: middle; margin-left: 0.5rem\">ORG</span>\n",
       "</mark>\n",
       " is looking at buying \n",
       "<mark class=\"entity\" style=\"background: #feca74; padding: 0.45em 0.6em; margin: 0 0.25em; line-height: 1; border-radius: 0.35em;\">\n",
       "    U.K.\n",
       "    <span style=\"font-size: 0.8em; font-weight: bold; line-height: 1; border-radius: 0.35em; vertical-align: middle; margin-left: 0.5rem\">GPE</span>\n",
       "</mark>\n",
       " startup for \n",
       "<mark class=\"entity\" style=\"background: #e4e7d2; padding: 0.45em 0.6em; margin: 0 0.25em; line-height: 1; border-radius: 0.35em;\">\n",
       "    $1 billion\n",
       "    <span style=\"font-size: 0.8em; font-weight: bold; line-height: 1; border-radius: 0.35em; vertical-align: middle; margin-left: 0.5rem\">MONEY</span>\n",
       "</mark>\n",
       "</div></span>"
      ],
      "text/plain": [
       "<IPython.core.display.HTML object>"
      ]
     },
     "metadata": {},
     "output_type": "display_data"
    }
   ],
   "source": [
    "displacy.render(doc5,style=\"ent\",jupyter=True) #ent means entity"
   ]
  },
  {
   "cell_type": "markdown",
   "metadata": {},
   "source": [
    "We see that entities are highlighted in different colors"
   ]
  },
  {
   "cell_type": "code",
   "execution_count": 24,
   "metadata": {},
   "outputs": [
    {
     "name": "stdout",
     "output_type": "stream",
     "text": [
      "Apple\n"
     ]
    }
   ],
   "source": [
    "for entity in doc5.ents:\n",
    "    if entity.label_=='ORG':\n",
    "        print(entity.text)"
   ]
  },
  {
   "cell_type": "markdown",
   "metadata": {},
   "source": [
    "# Lemmatization"
   ]
  },
  {
   "cell_type": "markdown",
   "metadata": {},
   "source": [
    "\n",
    "Lemmatization is a linguistic process that involves reducing words to their base or root form, known as the lemma. The goal is to group together different forms of a word so they can be analyzed as a single item. This helps in tasks like text analysis, information retrieval, and natural language processing.\n",
    "\n",
    "For example, consider the words \"running,\" \"ran,\" and \"runs.\" The lemma for all these words is \"run.\" Lemmatization would convert all these variations to the base form \"run.\""
   ]
  },
  {
   "cell_type": "code",
   "execution_count": 28,
   "metadata": {},
   "outputs": [
    {
     "data": {
      "text/plain": [
       "I am recording videos"
      ]
     },
     "execution_count": 28,
     "metadata": {},
     "output_type": "execute_result"
    }
   ],
   "source": [
    "doc6 = nlp(\"I am recording videos\")\n",
    "doc6"
   ]
  },
  {
   "cell_type": "code",
   "execution_count": 29,
   "metadata": {},
   "outputs": [
    {
     "name": "stdout",
     "output_type": "stream",
     "text": [
      "I\n",
      "am\n",
      "recording\n",
      "videos\n"
     ]
    }
   ],
   "source": [
    "for token in doc6:\n",
    "    print(token.text)"
   ]
  },
  {
   "cell_type": "code",
   "execution_count": 30,
   "metadata": {},
   "outputs": [
    {
     "name": "stdout",
     "output_type": "stream",
     "text": [
      "I\n",
      "be\n",
      "record\n",
      "video\n"
     ]
    }
   ],
   "source": [
    "for token in doc6:\n",
    "    print(token.lemma_)"
   ]
  },
  {
   "cell_type": "code",
   "execution_count": 32,
   "metadata": {},
   "outputs": [
    {
     "data": {
      "text/plain": [
       "He was running and eating at same time. He has bad habit of swimming after playing long hours in the Sun."
      ]
     },
     "execution_count": 32,
     "metadata": {},
     "output_type": "execute_result"
    }
   ],
   "source": [
    "doc7 = nlp(\"He was running and eating at same time. He has bad habit of swimming after playing long hours in the Sun.\")\n",
    "doc7"
   ]
  },
  {
   "cell_type": "code",
   "execution_count": 33,
   "metadata": {},
   "outputs": [
    {
     "name": "stdout",
     "output_type": "stream",
     "text": [
      "he\n",
      "be\n",
      "run\n",
      "and\n",
      "eat\n",
      "at\n",
      "same\n",
      "time\n",
      ".\n",
      "he\n",
      "have\n",
      "bad\n",
      "habit\n",
      "of\n",
      "swimming\n",
      "after\n",
      "play\n",
      "long\n",
      "hour\n",
      "in\n",
      "the\n",
      "Sun\n",
      ".\n"
     ]
    }
   ],
   "source": [
    "for token in doc7:\n",
    "    print(token.lemma_)"
   ]
  },
  {
   "cell_type": "markdown",
   "metadata": {},
   "source": [
    "# Most Frequent Words"
   ]
  },
  {
   "cell_type": "code",
   "execution_count": 34,
   "metadata": {},
   "outputs": [],
   "source": [
    "import nltk"
   ]
  },
  {
   "cell_type": "code",
   "execution_count": 40,
   "metadata": {},
   "outputs": [],
   "source": [
    "from goose3 import Goose"
   ]
  },
  {
   "cell_type": "code",
   "execution_count": 43,
   "metadata": {},
   "outputs": [],
   "source": [
    "g = Goose()"
   ]
  },
  {
   "cell_type": "code",
   "execution_count": 41,
   "metadata": {},
   "outputs": [],
   "source": [
    "url = \"https://en.wikipedia.org/wiki/Data_science\""
   ]
  },
  {
   "cell_type": "code",
   "execution_count": 42,
   "metadata": {},
   "outputs": [
    {
     "data": {
      "text/plain": [
       "'https://en.wikipedia.org/wiki/Data_science'"
      ]
     },
     "execution_count": 42,
     "metadata": {},
     "output_type": "execute_result"
    }
   ],
   "source": [
    "url"
   ]
  },
  {
   "cell_type": "code",
   "execution_count": 45,
   "metadata": {},
   "outputs": [],
   "source": [
    "article = g.extract(url=url)"
   ]
  },
  {
   "cell_type": "code",
   "execution_count": 46,
   "metadata": {},
   "outputs": [
    {
     "data": {
      "text/plain": [
       "<goose3.article.Article at 0x2310db83530>"
      ]
     },
     "execution_count": 46,
     "metadata": {},
     "output_type": "execute_result"
    }
   ],
   "source": [
    "article"
   ]
  },
  {
   "cell_type": "code",
   "execution_count": 47,
   "metadata": {},
   "outputs": [
    {
     "data": {
      "text/plain": [
       "'Interdisciplinary field of study on deriving knowledge and insights from data\\n\\nData science is an interdisciplinary academic field[1] that uses statistics, scientific computing, scientific methods, processes, algorithms and systems to extract or extrapolate knowledge and insights from potentially noisy, structured, or unstructured data.[2]\\n\\nData science also integrates domain knowledge from the underlying application domain (e.g., natural sciences, information technology, and medicine).[3] Data science is multifaceted and can be described as a science, a research paradigm, a research method, a discipline, a workflow, and a profession.[4]\\n\\nData science is \"a concept to unify statistics, data analysis, informatics, and their related methods\" to \"understand and analyze actual phenomena\" with data.[5] It uses techniques and theories drawn from many fields within the context of mathematics, statistics, computer science, information science, and domain knowledge.[6] However, data science is different from computer science and information science. Turing Award winner Jim Gray imagined data science as a \"fourth paradigm\" of science (empirical, theoretical, computational, and now data-driven) and asserted that \"everything about science is changing because of the impact of information technology\" and the data deluge.[7][8]\\n\\nA data scientist is a professional who creates programming code and combines it with statistical knowledge to create insights from data.[9]\\n\\nData science is an interdisciplinary field[10] focused on extracting knowledge from typically large data sets and applying the knowledge and insights from that data to solve problems in a wide range of application domains. The field encompasses preparing data for analysis, formulating data science problems, analyzing data, developing data-driven solutions, and presenting findings to inform high-level decisions in a broad range of application domains. As such, it incorporates skills from computer science, statistics, information science, mathematics, data visualization, information visualization, data sonification, data integration, graphic design, complex systems, communication and business.[11][12] Statistician Nathan Yau, drawing on Ben Fry, also links data science to human–computer interaction: users should be able to intuitively control and explore data.[13][14] In 2015, the American Statistical Association identified database management, statistics and machine learning, and distributed and parallel systems as the three emerging foundational professional communities.[15]\\n\\nMany statisticians, including Nate Silver, have argued that data science is not a new field, but rather another name for statistics.[16] Others argue that data science is distinct from statistics because it focuses on problems and techniques unique to digital data.[17] Vasant Dhar writes that statistics emphasizes quantitative data and description. In contrast, data science deals with quantitative and qualitative data (e.g., from images, text, sensors, transactions, customer information, etc.) and emphasizes prediction and action.[18] Andrew Gelman of Columbia University has described statistics as a non-essential part of data science.[19]\\n\\nStanford professor David Donoho writes that data science is not distinguished from statistics by the size of datasets or use of computing and that many graduate programs misleadingly advertise their analytics and statistics training as the essence of a data-science program. He describes data science as an applied field growing out of traditional statistics.[20]\\n\\nIn 1962, John Tukey described a field he called \"data analysis\", which resembles modern data science.[20] In 1985, in a lecture given to the Chinese Academy of Sciences in Beijing, C. F. Jeff Wu used the term \"data science\" for the first time as an alternative name for statistics.[21] Later, attendees at a 1992 statistics symposium at the University of Montpellier II acknowledged the emergence of a new discipline focused on data of various origins and forms, combining established concepts and principles of statistics and data analysis with computing.[22][23]\\n\\nThe term \"data science\" has been traced back to 1974, when Peter Naur proposed it as an alternative name to computer science.[6] In 1996, the International Federation of Classification Societies became the first conference to specifically feature data science as a topic.[6] However, the definition was still in flux. After the 1985 lecture at the Chinese Academy of Sciences in Beijing, in 1997 C. F. Jeff Wu again suggested that statistics should be renamed data science. He reasoned that a new name would help statistics shed inaccurate stereotypes, such as being synonymous with accounting or limited to describing data.[24] In 1998, Hayashi Chikio argued for data science as a new, interdisciplinary concept, with three aspects: data design, collection, and analysis.[23]\\n\\nDuring the 1990s, popular terms for the process of finding patterns in datasets (which were increasingly large) included \"knowledge discovery\" and \"data mining\".[6][25]\\n\\nIn 2012, technologists Thomas H. Davenport and DJ Patil declared \"Data Scientist: The Sexiest Job of the 21st Century\",[26] a catchphrase that was picked up even by major-city newspapers like the New York Times[27] and the Boston Globe.[28] A decade later, they reaffirmed it, stating that \"the job is more in demand than ever with employers\".[29]\\n\\nThe modern conception of data science as an independent discipline is sometimes attributed to William S. Cleveland.[30] In a 2001 paper, he advocated an expansion of statistics beyond theory into technical areas; because this would significantly change the field, it warranted a new name.[25] \"Data science\" became more widely used in the next few years: in 2002, the Committee on Data for Science and Technology launched the Data Science Journal. In 2003, Columbia University launched The Journal of Data Science.[25] In 2014, the American Statistical Association\\'s Section on Statistical Learning and Data Mining changed its name to the Section on Statistical Learning and Data Science, reflecting the ascendant popularity of data science.[31]\\n\\nThe professional title of \"data scientist\" has been attributed to DJ Patil and Jeff Hammerbacher in 2008.[32] Though it was used by the National Science Board in their 2005 report \"Long-Lived Digital Data Collections: Enabling Research and Education in the 21st Century\", it referred broadly to any key role in managing a digital data collection.[33]\\n\\nThere is still no consensus on the definition of data science, and it is considered by some to be a buzzword.[34] Big data is a related marketing term.[35] Data scientists are responsible for breaking down big data into usable information and creating software and algorithms that help companies and organizations determine optimal operations.[36]\\n\\nData science and data analysis are both important disciplines in the field of data management and analysis, but they differ in several key ways. While both fields involve working with data, data science is more of an interdisciplinary field that involves the application of statistical, computational, and machine learning methods to extract insights from data and make predictions, while data analysis is more focused on the examination and interpretation of data to identify patterns and trends.[37][38]\\n\\nData analysis typically involves working with smaller, structured datasets to answer specific questions or solve specific problems. This can involve tasks such as data cleaning, data visualization, and exploratory data analysis to gain insights into the data and develop hypotheses about relationships between variables. Data analysts typically use statistical methods to test these hypotheses and draw conclusions from the data. For example, a data analyst might analyze sales data to identify trends in customer behavior and make recommendations for marketing strategies.[37]\\n\\nData science, on the other hand, is a more complex and iterative process that involves working with larger, more complex datasets that often require advanced computational and statistical methods to analyze. Data scientists often work with unstructured data such as text or images and use machine learning algorithms to build predictive models and make data-driven decisions. In addition to statistical analysis, data science often involves tasks such as data preprocessing, feature engineering, and model selection. For instance, a data scientist might develop a recommendation system for an e-commerce platform by analyzing user behavior patterns and using machine learning algorithms to predict user preferences.[38][39]\\n\\nWhile data analysis focuses on extracting insights from existing data, data science goes beyond that by incorporating the development and implementation of predictive models to make informed decisions. Data scientists are often responsible for collecting and cleaning data, selecting appropriate analytical techniques, and deploying models in real-world scenarios. They work at the intersection of mathematics, computer science, and domain expertise to solve complex problems and uncover hidden patterns in large datasets.[38]\\n\\nDespite these differences, data science and data analysis are closely related fields and often require similar skill sets. Both fields require a solid foundation in statistics, programming, and data visualization, as well as the ability to communicate findings effectively to both technical and non-technical audiences. Both fields benefit from critical thinking and domain knowledge, as understanding the context and nuances of the data is essential for accurate analysis and modeling.[37][38]\\n\\nIn summary, data analysis and data science are distinct yet interconnected disciplines within the broader field of data management and analysis. Data analysis focuses on extracting insights and drawing conclusions from structured data, while data science involves a more comprehensive approach that combines statistical analysis, computational methods, and machine learning to extract insights, build predictive models, and drive data-driven decision-making. Both fields use data to understand patterns, make informed decisions, and solve complex problems across various domains.'"
      ]
     },
     "execution_count": 47,
     "metadata": {},
     "output_type": "execute_result"
    }
   ],
   "source": [
    "article.cleaned_text"
   ]
  },
  {
   "cell_type": "code",
   "execution_count": 48,
   "metadata": {},
   "outputs": [],
   "source": [
    "tokens = nltk.tokenize.word_tokenize(article.cleaned_text)"
   ]
  },
  {
   "cell_type": "code",
   "execution_count": 49,
   "metadata": {},
   "outputs": [
    {
     "data": {
      "text/plain": [
       "['Interdisciplinary',\n",
       " 'field',\n",
       " 'of',\n",
       " 'study',\n",
       " 'on',\n",
       " 'deriving',\n",
       " 'knowledge',\n",
       " 'and',\n",
       " 'insights',\n",
       " 'from',\n",
       " 'data',\n",
       " 'Data',\n",
       " 'science',\n",
       " 'is',\n",
       " 'an',\n",
       " 'interdisciplinary',\n",
       " 'academic',\n",
       " 'field',\n",
       " '[',\n",
       " '1',\n",
       " ']',\n",
       " 'that',\n",
       " 'uses',\n",
       " 'statistics',\n",
       " ',',\n",
       " 'scientific',\n",
       " 'computing',\n",
       " ',',\n",
       " 'scientific',\n",
       " 'methods',\n",
       " ',',\n",
       " 'processes',\n",
       " ',',\n",
       " 'algorithms',\n",
       " 'and',\n",
       " 'systems',\n",
       " 'to',\n",
       " 'extract',\n",
       " 'or',\n",
       " 'extrapolate',\n",
       " 'knowledge',\n",
       " 'and',\n",
       " 'insights',\n",
       " 'from',\n",
       " 'potentially',\n",
       " 'noisy',\n",
       " ',',\n",
       " 'structured',\n",
       " ',',\n",
       " 'or',\n",
       " 'unstructured',\n",
       " 'data',\n",
       " '.',\n",
       " '[',\n",
       " '2',\n",
       " ']',\n",
       " 'Data',\n",
       " 'science',\n",
       " 'also',\n",
       " 'integrates',\n",
       " 'domain',\n",
       " 'knowledge',\n",
       " 'from',\n",
       " 'the',\n",
       " 'underlying',\n",
       " 'application',\n",
       " 'domain',\n",
       " '(',\n",
       " 'e.g.',\n",
       " ',',\n",
       " 'natural',\n",
       " 'sciences',\n",
       " ',',\n",
       " 'information',\n",
       " 'technology',\n",
       " ',',\n",
       " 'and',\n",
       " 'medicine',\n",
       " ')',\n",
       " '.',\n",
       " '[',\n",
       " '3',\n",
       " ']',\n",
       " 'Data',\n",
       " 'science',\n",
       " 'is',\n",
       " 'multifaceted',\n",
       " 'and',\n",
       " 'can',\n",
       " 'be',\n",
       " 'described',\n",
       " 'as',\n",
       " 'a',\n",
       " 'science',\n",
       " ',',\n",
       " 'a',\n",
       " 'research',\n",
       " 'paradigm',\n",
       " ',',\n",
       " 'a',\n",
       " 'research',\n",
       " 'method',\n",
       " ',',\n",
       " 'a',\n",
       " 'discipline',\n",
       " ',',\n",
       " 'a',\n",
       " 'workflow',\n",
       " ',',\n",
       " 'and',\n",
       " 'a',\n",
       " 'profession',\n",
       " '.',\n",
       " '[',\n",
       " '4',\n",
       " ']',\n",
       " 'Data',\n",
       " 'science',\n",
       " 'is',\n",
       " '``',\n",
       " 'a',\n",
       " 'concept',\n",
       " 'to',\n",
       " 'unify',\n",
       " 'statistics',\n",
       " ',',\n",
       " 'data',\n",
       " 'analysis',\n",
       " ',',\n",
       " 'informatics',\n",
       " ',',\n",
       " 'and',\n",
       " 'their',\n",
       " 'related',\n",
       " 'methods',\n",
       " \"''\",\n",
       " 'to',\n",
       " '``',\n",
       " 'understand',\n",
       " 'and',\n",
       " 'analyze',\n",
       " 'actual',\n",
       " 'phenomena',\n",
       " \"''\",\n",
       " 'with',\n",
       " 'data',\n",
       " '.',\n",
       " '[',\n",
       " '5',\n",
       " ']',\n",
       " 'It',\n",
       " 'uses',\n",
       " 'techniques',\n",
       " 'and',\n",
       " 'theories',\n",
       " 'drawn',\n",
       " 'from',\n",
       " 'many',\n",
       " 'fields',\n",
       " 'within',\n",
       " 'the',\n",
       " 'context',\n",
       " 'of',\n",
       " 'mathematics',\n",
       " ',',\n",
       " 'statistics',\n",
       " ',',\n",
       " 'computer',\n",
       " 'science',\n",
       " ',',\n",
       " 'information',\n",
       " 'science',\n",
       " ',',\n",
       " 'and',\n",
       " 'domain',\n",
       " 'knowledge',\n",
       " '.',\n",
       " '[',\n",
       " '6',\n",
       " ']',\n",
       " 'However',\n",
       " ',',\n",
       " 'data',\n",
       " 'science',\n",
       " 'is',\n",
       " 'different',\n",
       " 'from',\n",
       " 'computer',\n",
       " 'science',\n",
       " 'and',\n",
       " 'information',\n",
       " 'science',\n",
       " '.',\n",
       " 'Turing',\n",
       " 'Award',\n",
       " 'winner',\n",
       " 'Jim',\n",
       " 'Gray',\n",
       " 'imagined',\n",
       " 'data',\n",
       " 'science',\n",
       " 'as',\n",
       " 'a',\n",
       " '``',\n",
       " 'fourth',\n",
       " 'paradigm',\n",
       " \"''\",\n",
       " 'of',\n",
       " 'science',\n",
       " '(',\n",
       " 'empirical',\n",
       " ',',\n",
       " 'theoretical',\n",
       " ',',\n",
       " 'computational',\n",
       " ',',\n",
       " 'and',\n",
       " 'now',\n",
       " 'data-driven',\n",
       " ')',\n",
       " 'and',\n",
       " 'asserted',\n",
       " 'that',\n",
       " '``',\n",
       " 'everything',\n",
       " 'about',\n",
       " 'science',\n",
       " 'is',\n",
       " 'changing',\n",
       " 'because',\n",
       " 'of',\n",
       " 'the',\n",
       " 'impact',\n",
       " 'of',\n",
       " 'information',\n",
       " 'technology',\n",
       " \"''\",\n",
       " 'and',\n",
       " 'the',\n",
       " 'data',\n",
       " 'deluge',\n",
       " '.',\n",
       " '[',\n",
       " '7',\n",
       " ']',\n",
       " '[',\n",
       " '8',\n",
       " ']',\n",
       " 'A',\n",
       " 'data',\n",
       " 'scientist',\n",
       " 'is',\n",
       " 'a',\n",
       " 'professional',\n",
       " 'who',\n",
       " 'creates',\n",
       " 'programming',\n",
       " 'code',\n",
       " 'and',\n",
       " 'combines',\n",
       " 'it',\n",
       " 'with',\n",
       " 'statistical',\n",
       " 'knowledge',\n",
       " 'to',\n",
       " 'create',\n",
       " 'insights',\n",
       " 'from',\n",
       " 'data',\n",
       " '.',\n",
       " '[',\n",
       " '9',\n",
       " ']',\n",
       " 'Data',\n",
       " 'science',\n",
       " 'is',\n",
       " 'an',\n",
       " 'interdisciplinary',\n",
       " 'field',\n",
       " '[',\n",
       " '10',\n",
       " ']',\n",
       " 'focused',\n",
       " 'on',\n",
       " 'extracting',\n",
       " 'knowledge',\n",
       " 'from',\n",
       " 'typically',\n",
       " 'large',\n",
       " 'data',\n",
       " 'sets',\n",
       " 'and',\n",
       " 'applying',\n",
       " 'the',\n",
       " 'knowledge',\n",
       " 'and',\n",
       " 'insights',\n",
       " 'from',\n",
       " 'that',\n",
       " 'data',\n",
       " 'to',\n",
       " 'solve',\n",
       " 'problems',\n",
       " 'in',\n",
       " 'a',\n",
       " 'wide',\n",
       " 'range',\n",
       " 'of',\n",
       " 'application',\n",
       " 'domains',\n",
       " '.',\n",
       " 'The',\n",
       " 'field',\n",
       " 'encompasses',\n",
       " 'preparing',\n",
       " 'data',\n",
       " 'for',\n",
       " 'analysis',\n",
       " ',',\n",
       " 'formulating',\n",
       " 'data',\n",
       " 'science',\n",
       " 'problems',\n",
       " ',',\n",
       " 'analyzing',\n",
       " 'data',\n",
       " ',',\n",
       " 'developing',\n",
       " 'data-driven',\n",
       " 'solutions',\n",
       " ',',\n",
       " 'and',\n",
       " 'presenting',\n",
       " 'findings',\n",
       " 'to',\n",
       " 'inform',\n",
       " 'high-level',\n",
       " 'decisions',\n",
       " 'in',\n",
       " 'a',\n",
       " 'broad',\n",
       " 'range',\n",
       " 'of',\n",
       " 'application',\n",
       " 'domains',\n",
       " '.',\n",
       " 'As',\n",
       " 'such',\n",
       " ',',\n",
       " 'it',\n",
       " 'incorporates',\n",
       " 'skills',\n",
       " 'from',\n",
       " 'computer',\n",
       " 'science',\n",
       " ',',\n",
       " 'statistics',\n",
       " ',',\n",
       " 'information',\n",
       " 'science',\n",
       " ',',\n",
       " 'mathematics',\n",
       " ',',\n",
       " 'data',\n",
       " 'visualization',\n",
       " ',',\n",
       " 'information',\n",
       " 'visualization',\n",
       " ',',\n",
       " 'data',\n",
       " 'sonification',\n",
       " ',',\n",
       " 'data',\n",
       " 'integration',\n",
       " ',',\n",
       " 'graphic',\n",
       " 'design',\n",
       " ',',\n",
       " 'complex',\n",
       " 'systems',\n",
       " ',',\n",
       " 'communication',\n",
       " 'and',\n",
       " 'business',\n",
       " '.',\n",
       " '[',\n",
       " '11',\n",
       " ']',\n",
       " '[',\n",
       " '12',\n",
       " ']',\n",
       " 'Statistician',\n",
       " 'Nathan',\n",
       " 'Yau',\n",
       " ',',\n",
       " 'drawing',\n",
       " 'on',\n",
       " 'Ben',\n",
       " 'Fry',\n",
       " ',',\n",
       " 'also',\n",
       " 'links',\n",
       " 'data',\n",
       " 'science',\n",
       " 'to',\n",
       " 'human–computer',\n",
       " 'interaction',\n",
       " ':',\n",
       " 'users',\n",
       " 'should',\n",
       " 'be',\n",
       " 'able',\n",
       " 'to',\n",
       " 'intuitively',\n",
       " 'control',\n",
       " 'and',\n",
       " 'explore',\n",
       " 'data',\n",
       " '.',\n",
       " '[',\n",
       " '13',\n",
       " ']',\n",
       " '[',\n",
       " '14',\n",
       " ']',\n",
       " 'In',\n",
       " '2015',\n",
       " ',',\n",
       " 'the',\n",
       " 'American',\n",
       " 'Statistical',\n",
       " 'Association',\n",
       " 'identified',\n",
       " 'database',\n",
       " 'management',\n",
       " ',',\n",
       " 'statistics',\n",
       " 'and',\n",
       " 'machine',\n",
       " 'learning',\n",
       " ',',\n",
       " 'and',\n",
       " 'distributed',\n",
       " 'and',\n",
       " 'parallel',\n",
       " 'systems',\n",
       " 'as',\n",
       " 'the',\n",
       " 'three',\n",
       " 'emerging',\n",
       " 'foundational',\n",
       " 'professional',\n",
       " 'communities',\n",
       " '.',\n",
       " '[',\n",
       " '15',\n",
       " ']',\n",
       " 'Many',\n",
       " 'statisticians',\n",
       " ',',\n",
       " 'including',\n",
       " 'Nate',\n",
       " 'Silver',\n",
       " ',',\n",
       " 'have',\n",
       " 'argued',\n",
       " 'that',\n",
       " 'data',\n",
       " 'science',\n",
       " 'is',\n",
       " 'not',\n",
       " 'a',\n",
       " 'new',\n",
       " 'field',\n",
       " ',',\n",
       " 'but',\n",
       " 'rather',\n",
       " 'another',\n",
       " 'name',\n",
       " 'for',\n",
       " 'statistics',\n",
       " '.',\n",
       " '[',\n",
       " '16',\n",
       " ']',\n",
       " 'Others',\n",
       " 'argue',\n",
       " 'that',\n",
       " 'data',\n",
       " 'science',\n",
       " 'is',\n",
       " 'distinct',\n",
       " 'from',\n",
       " 'statistics',\n",
       " 'because',\n",
       " 'it',\n",
       " 'focuses',\n",
       " 'on',\n",
       " 'problems',\n",
       " 'and',\n",
       " 'techniques',\n",
       " 'unique',\n",
       " 'to',\n",
       " 'digital',\n",
       " 'data',\n",
       " '.',\n",
       " '[',\n",
       " '17',\n",
       " ']',\n",
       " 'Vasant',\n",
       " 'Dhar',\n",
       " 'writes',\n",
       " 'that',\n",
       " 'statistics',\n",
       " 'emphasizes',\n",
       " 'quantitative',\n",
       " 'data',\n",
       " 'and',\n",
       " 'description',\n",
       " '.',\n",
       " 'In',\n",
       " 'contrast',\n",
       " ',',\n",
       " 'data',\n",
       " 'science',\n",
       " 'deals',\n",
       " 'with',\n",
       " 'quantitative',\n",
       " 'and',\n",
       " 'qualitative',\n",
       " 'data',\n",
       " '(',\n",
       " 'e.g.',\n",
       " ',',\n",
       " 'from',\n",
       " 'images',\n",
       " ',',\n",
       " 'text',\n",
       " ',',\n",
       " 'sensors',\n",
       " ',',\n",
       " 'transactions',\n",
       " ',',\n",
       " 'customer',\n",
       " 'information',\n",
       " ',',\n",
       " 'etc',\n",
       " '.',\n",
       " ')',\n",
       " 'and',\n",
       " 'emphasizes',\n",
       " 'prediction',\n",
       " 'and',\n",
       " 'action',\n",
       " '.',\n",
       " '[',\n",
       " '18',\n",
       " ']',\n",
       " 'Andrew',\n",
       " 'Gelman',\n",
       " 'of',\n",
       " 'Columbia',\n",
       " 'University',\n",
       " 'has',\n",
       " 'described',\n",
       " 'statistics',\n",
       " 'as',\n",
       " 'a',\n",
       " 'non-essential',\n",
       " 'part',\n",
       " 'of',\n",
       " 'data',\n",
       " 'science',\n",
       " '.',\n",
       " '[',\n",
       " '19',\n",
       " ']',\n",
       " 'Stanford',\n",
       " 'professor',\n",
       " 'David',\n",
       " 'Donoho',\n",
       " 'writes',\n",
       " 'that',\n",
       " 'data',\n",
       " 'science',\n",
       " 'is',\n",
       " 'not',\n",
       " 'distinguished',\n",
       " 'from',\n",
       " 'statistics',\n",
       " 'by',\n",
       " 'the',\n",
       " 'size',\n",
       " 'of',\n",
       " 'datasets',\n",
       " 'or',\n",
       " 'use',\n",
       " 'of',\n",
       " 'computing',\n",
       " 'and',\n",
       " 'that',\n",
       " 'many',\n",
       " 'graduate',\n",
       " 'programs',\n",
       " 'misleadingly',\n",
       " 'advertise',\n",
       " 'their',\n",
       " 'analytics',\n",
       " 'and',\n",
       " 'statistics',\n",
       " 'training',\n",
       " 'as',\n",
       " 'the',\n",
       " 'essence',\n",
       " 'of',\n",
       " 'a',\n",
       " 'data-science',\n",
       " 'program',\n",
       " '.',\n",
       " 'He',\n",
       " 'describes',\n",
       " 'data',\n",
       " 'science',\n",
       " 'as',\n",
       " 'an',\n",
       " 'applied',\n",
       " 'field',\n",
       " 'growing',\n",
       " 'out',\n",
       " 'of',\n",
       " 'traditional',\n",
       " 'statistics',\n",
       " '.',\n",
       " '[',\n",
       " '20',\n",
       " ']',\n",
       " 'In',\n",
       " '1962',\n",
       " ',',\n",
       " 'John',\n",
       " 'Tukey',\n",
       " 'described',\n",
       " 'a',\n",
       " 'field',\n",
       " 'he',\n",
       " 'called',\n",
       " '``',\n",
       " 'data',\n",
       " 'analysis',\n",
       " \"''\",\n",
       " ',',\n",
       " 'which',\n",
       " 'resembles',\n",
       " 'modern',\n",
       " 'data',\n",
       " 'science',\n",
       " '.',\n",
       " '[',\n",
       " '20',\n",
       " ']',\n",
       " 'In',\n",
       " '1985',\n",
       " ',',\n",
       " 'in',\n",
       " 'a',\n",
       " 'lecture',\n",
       " 'given',\n",
       " 'to',\n",
       " 'the',\n",
       " 'Chinese',\n",
       " 'Academy',\n",
       " 'of',\n",
       " 'Sciences',\n",
       " 'in',\n",
       " 'Beijing',\n",
       " ',',\n",
       " 'C.',\n",
       " 'F.',\n",
       " 'Jeff',\n",
       " 'Wu',\n",
       " 'used',\n",
       " 'the',\n",
       " 'term',\n",
       " '``',\n",
       " 'data',\n",
       " 'science',\n",
       " \"''\",\n",
       " 'for',\n",
       " 'the',\n",
       " 'first',\n",
       " 'time',\n",
       " 'as',\n",
       " 'an',\n",
       " 'alternative',\n",
       " 'name',\n",
       " 'for',\n",
       " 'statistics',\n",
       " '.',\n",
       " '[',\n",
       " '21',\n",
       " ']',\n",
       " 'Later',\n",
       " ',',\n",
       " 'attendees',\n",
       " 'at',\n",
       " 'a',\n",
       " '1992',\n",
       " 'statistics',\n",
       " 'symposium',\n",
       " 'at',\n",
       " 'the',\n",
       " 'University',\n",
       " 'of',\n",
       " 'Montpellier',\n",
       " 'II',\n",
       " 'acknowledged',\n",
       " 'the',\n",
       " 'emergence',\n",
       " 'of',\n",
       " 'a',\n",
       " 'new',\n",
       " 'discipline',\n",
       " 'focused',\n",
       " 'on',\n",
       " 'data',\n",
       " 'of',\n",
       " 'various',\n",
       " 'origins',\n",
       " 'and',\n",
       " 'forms',\n",
       " ',',\n",
       " 'combining',\n",
       " 'established',\n",
       " 'concepts',\n",
       " 'and',\n",
       " 'principles',\n",
       " 'of',\n",
       " 'statistics',\n",
       " 'and',\n",
       " 'data',\n",
       " 'analysis',\n",
       " 'with',\n",
       " 'computing',\n",
       " '.',\n",
       " '[',\n",
       " '22',\n",
       " ']',\n",
       " '[',\n",
       " '23',\n",
       " ']',\n",
       " 'The',\n",
       " 'term',\n",
       " '``',\n",
       " 'data',\n",
       " 'science',\n",
       " \"''\",\n",
       " 'has',\n",
       " 'been',\n",
       " 'traced',\n",
       " 'back',\n",
       " 'to',\n",
       " '1974',\n",
       " ',',\n",
       " 'when',\n",
       " 'Peter',\n",
       " 'Naur',\n",
       " 'proposed',\n",
       " 'it',\n",
       " 'as',\n",
       " 'an',\n",
       " 'alternative',\n",
       " 'name',\n",
       " 'to',\n",
       " 'computer',\n",
       " 'science',\n",
       " '.',\n",
       " '[',\n",
       " '6',\n",
       " ']',\n",
       " 'In',\n",
       " '1996',\n",
       " ',',\n",
       " 'the',\n",
       " 'International',\n",
       " 'Federation',\n",
       " 'of',\n",
       " 'Classification',\n",
       " 'Societies',\n",
       " 'became',\n",
       " 'the',\n",
       " 'first',\n",
       " 'conference',\n",
       " 'to',\n",
       " 'specifically',\n",
       " 'feature',\n",
       " 'data',\n",
       " 'science',\n",
       " 'as',\n",
       " 'a',\n",
       " 'topic',\n",
       " '.',\n",
       " '[',\n",
       " '6',\n",
       " ']',\n",
       " 'However',\n",
       " ',',\n",
       " 'the',\n",
       " 'definition',\n",
       " 'was',\n",
       " 'still',\n",
       " 'in',\n",
       " 'flux',\n",
       " '.',\n",
       " 'After',\n",
       " 'the',\n",
       " '1985',\n",
       " 'lecture',\n",
       " 'at',\n",
       " 'the',\n",
       " 'Chinese',\n",
       " 'Academy',\n",
       " 'of',\n",
       " 'Sciences',\n",
       " 'in',\n",
       " 'Beijing',\n",
       " ',',\n",
       " 'in',\n",
       " '1997',\n",
       " 'C.',\n",
       " 'F.',\n",
       " 'Jeff',\n",
       " 'Wu',\n",
       " 'again',\n",
       " 'suggested',\n",
       " 'that',\n",
       " 'statistics',\n",
       " 'should',\n",
       " 'be',\n",
       " 'renamed',\n",
       " 'data',\n",
       " 'science',\n",
       " '.',\n",
       " 'He',\n",
       " 'reasoned',\n",
       " 'that',\n",
       " 'a',\n",
       " 'new',\n",
       " 'name',\n",
       " 'would',\n",
       " 'help',\n",
       " 'statistics',\n",
       " 'shed',\n",
       " 'inaccurate',\n",
       " 'stereotypes',\n",
       " ',',\n",
       " 'such',\n",
       " 'as',\n",
       " 'being',\n",
       " 'synonymous',\n",
       " 'with',\n",
       " 'accounting',\n",
       " 'or',\n",
       " 'limited',\n",
       " 'to',\n",
       " 'describing',\n",
       " 'data',\n",
       " '.',\n",
       " '[',\n",
       " '24',\n",
       " ']',\n",
       " 'In',\n",
       " '1998',\n",
       " ',',\n",
       " 'Hayashi',\n",
       " 'Chikio',\n",
       " 'argued',\n",
       " 'for',\n",
       " 'data',\n",
       " 'science',\n",
       " 'as',\n",
       " 'a',\n",
       " 'new',\n",
       " ',',\n",
       " 'interdisciplinary',\n",
       " 'concept',\n",
       " ',',\n",
       " 'with',\n",
       " 'three',\n",
       " 'aspects',\n",
       " ':',\n",
       " 'data',\n",
       " 'design',\n",
       " ',',\n",
       " 'collection',\n",
       " ',',\n",
       " 'and',\n",
       " 'analysis',\n",
       " '.',\n",
       " '[',\n",
       " '23',\n",
       " ']',\n",
       " 'During',\n",
       " 'the',\n",
       " '1990s',\n",
       " ',',\n",
       " 'popular',\n",
       " 'terms',\n",
       " 'for',\n",
       " 'the',\n",
       " 'process',\n",
       " 'of',\n",
       " 'finding',\n",
       " 'patterns',\n",
       " 'in',\n",
       " 'datasets',\n",
       " '(',\n",
       " 'which',\n",
       " 'were',\n",
       " 'increasingly',\n",
       " 'large',\n",
       " ')',\n",
       " 'included',\n",
       " '``',\n",
       " 'knowledge',\n",
       " 'discovery',\n",
       " \"''\",\n",
       " 'and',\n",
       " '``',\n",
       " 'data',\n",
       " 'mining',\n",
       " \"''\",\n",
       " '.',\n",
       " '[',\n",
       " '6',\n",
       " ']',\n",
       " '[',\n",
       " '25',\n",
       " ']',\n",
       " 'In',\n",
       " '2012',\n",
       " ',',\n",
       " 'technologists',\n",
       " 'Thomas',\n",
       " 'H.',\n",
       " 'Davenport',\n",
       " 'and',\n",
       " 'DJ',\n",
       " 'Patil',\n",
       " 'declared',\n",
       " '``',\n",
       " 'Data',\n",
       " 'Scientist',\n",
       " ':',\n",
       " 'The',\n",
       " 'Sexiest',\n",
       " 'Job',\n",
       " 'of',\n",
       " 'the',\n",
       " '21st',\n",
       " 'Century',\n",
       " \"''\",\n",
       " ',',\n",
       " '[',\n",
       " '26',\n",
       " ']',\n",
       " 'a',\n",
       " 'catchphrase',\n",
       " 'that',\n",
       " 'was',\n",
       " 'picked',\n",
       " 'up',\n",
       " 'even',\n",
       " 'by',\n",
       " 'major-city',\n",
       " 'newspapers',\n",
       " 'like',\n",
       " 'the',\n",
       " 'New',\n",
       " 'York',\n",
       " 'Times',\n",
       " '[',\n",
       " '27',\n",
       " ']',\n",
       " 'and',\n",
       " 'the',\n",
       " 'Boston',\n",
       " 'Globe',\n",
       " '.',\n",
       " '[',\n",
       " '28',\n",
       " ']',\n",
       " 'A',\n",
       " 'decade',\n",
       " 'later',\n",
       " ',',\n",
       " 'they',\n",
       " 'reaffirmed',\n",
       " 'it',\n",
       " ',',\n",
       " 'stating',\n",
       " ...]"
      ]
     },
     "execution_count": 49,
     "metadata": {},
     "output_type": "execute_result"
    }
   ],
   "source": [
    "tokens"
   ]
  },
  {
   "cell_type": "markdown",
   "metadata": {},
   "source": [
    "Now we find most frequent words"
   ]
  },
  {
   "cell_type": "code",
   "execution_count": 50,
   "metadata": {},
   "outputs": [],
   "source": [
    "frequency = nltk.FreqDist(tokens)"
   ]
  },
  {
   "cell_type": "code",
   "execution_count": 51,
   "metadata": {},
   "outputs": [
    {
     "data": {
      "text/plain": [
       "FreqDist({',': 118, 'and': 80, 'data': 79, '.': 63, '[': 51, ']': 51, 'the': 47, 'science': 44, 'of': 36, 'to': 35, ...})"
      ]
     },
     "execution_count": 51,
     "metadata": {},
     "output_type": "execute_result"
    }
   ],
   "source": [
    "frequency"
   ]
  },
  {
   "cell_type": "code",
   "execution_count": 54,
   "metadata": {},
   "outputs": [],
   "source": [
    "most_common = frequency.most_common(20) #to get top 20 most frequent words"
   ]
  },
  {
   "cell_type": "code",
   "execution_count": 55,
   "metadata": {},
   "outputs": [
    {
     "data": {
      "text/plain": [
       "[(',', 118),\n",
       " ('and', 80),\n",
       " ('data', 79),\n",
       " ('.', 63),\n",
       " ('[', 51),\n",
       " (']', 51),\n",
       " ('the', 47),\n",
       " ('science', 44),\n",
       " ('of', 36),\n",
       " ('to', 35),\n",
       " ('a', 33),\n",
       " ('Data', 21),\n",
       " ('in', 21),\n",
       " ('is', 19),\n",
       " ('statistics', 19),\n",
       " ('that', 18),\n",
       " ('as', 18),\n",
       " ('analysis', 18),\n",
       " ('from', 17),\n",
       " ('``', 14)]"
      ]
     },
     "execution_count": 55,
     "metadata": {},
     "output_type": "execute_result"
    }
   ],
   "source": [
    "most_common"
   ]
  },
  {
   "cell_type": "markdown",
   "metadata": {},
   "source": [
    "We now make a Word Cloud"
   ]
  },
  {
   "cell_type": "code",
   "execution_count": 57,
   "metadata": {},
   "outputs": [],
   "source": [
    "from wordcloud import WordCloud\n",
    "import matplotlib.pyplot as plt"
   ]
  },
  {
   "cell_type": "code",
   "execution_count": 58,
   "metadata": {},
   "outputs": [],
   "source": [
    "cloud = WordCloud()"
   ]
  },
  {
   "cell_type": "code",
   "execution_count": 59,
   "metadata": {},
   "outputs": [],
   "source": [
    "cloud = cloud.generate(article.cleaned_text)"
   ]
  },
  {
   "cell_type": "code",
   "execution_count": 60,
   "metadata": {},
   "outputs": [
    {
     "data": {
      "text/plain": [
       "<wordcloud.wordcloud.WordCloud at 0x2310f4c4140>"
      ]
     },
     "execution_count": 60,
     "metadata": {},
     "output_type": "execute_result"
    }
   ],
   "source": [
    "cloud"
   ]
  },
  {
   "cell_type": "code",
   "execution_count": 61,
   "metadata": {},
   "outputs": [
    {
     "data": {
      "text/plain": [
       "<matplotlib.image.AxesImage at 0x2310f5b26c0>"
      ]
     },
     "execution_count": 61,
     "metadata": {},
     "output_type": "execute_result"
    },
    {
     "data": {
      "image/png": "[encoded data removed]",
      "text/plain": [
       "<Figure size 640x480 with 1 Axes>"
      ]
     },
     "metadata": {},
     "output_type": "display_data"
    }
   ],
   "source": [
    "plt.imshow(cloud)"
   ]
  },
  {
   "cell_type": "code",
   "execution_count": 65,
   "metadata": {},
   "outputs": [
    {
     "data": {
      "image/png": "[encoded data removed]",
      "text/plain": [
       "<Figure size 1000x1000 with 1 Axes>"
      ]
     },
     "metadata": {},
     "output_type": "display_data"
    }
   ],
   "source": [
    "plt.figure(figsize=(10,10))\n",
    "plt.imshow(cloud)\n",
    "plt.axis(\"off\");"
   ]
  },
  {
   "cell_type": "markdown",
   "metadata": {},
   "source": [
    "# Word Similarity"
   ]
  },
  {
   "cell_type": "code",
   "execution_count": 66,
   "metadata": {},
   "outputs": [],
   "source": [
    "g1 = nlp(\"hi\")"
   ]
  },
  {
   "cell_type": "code",
   "execution_count": 67,
   "metadata": {},
   "outputs": [],
   "source": [
    "g2 = nlp(\"hello\")"
   ]
  },
  {
   "cell_type": "code",
   "execution_count": 68,
   "metadata": {},
   "outputs": [
    {
     "data": {
      "text/plain": [
       "hi"
      ]
     },
     "execution_count": 68,
     "metadata": {},
     "output_type": "execute_result"
    }
   ],
   "source": [
    "g1"
   ]
  },
  {
   "cell_type": "code",
   "execution_count": 69,
   "metadata": {},
   "outputs": [
    {
     "data": {
      "text/plain": [
       "hello"
      ]
     },
     "execution_count": 69,
     "metadata": {},
     "output_type": "execute_result"
    }
   ],
   "source": [
    "g2"
   ]
  },
  {
   "cell_type": "code",
   "execution_count": 70,
   "metadata": {},
   "outputs": [
    {
     "name": "stderr",
     "output_type": "stream",
     "text": [
      "C:\\Users\\Vedant Kesharia\\AppData\\Local\\Temp\\ipykernel_8040\\1516339412.py:1: UserWarning: [W007] The model you're using has no word vectors loaded, so the result of the Doc.similarity method will be based on the tagger, parser and NER, which may not give useful similarity judgements. This may happen if you're using one of the small models, e.g. `en_core_web_sm`, which don't ship with word vectors and only use context-sensitive tensors. You can always add your own word vectors, or use one of the larger models instead if available.\n",
      "  g1.similarity(g2)\n"
     ]
    },
    {
     "data": {
      "text/plain": [
       "0.7161104995803708"
      ]
     },
     "execution_count": 70,
     "metadata": {},
     "output_type": "execute_result"
    }
   ],
   "source": [
    "g1.similarity(g2)"
   ]
  },
  {
   "cell_type": "code",
   "execution_count": 71,
   "metadata": {},
   "outputs": [
    {
     "name": "stderr",
     "output_type": "stream",
     "text": [
      "C:\\Users\\Vedant Kesharia\\AppData\\Local\\Temp\\ipykernel_8040\\2904518517.py:1: UserWarning: [W007] The model you're using has no word vectors loaded, so the result of the Doc.similarity method will be based on the tagger, parser and NER, which may not give useful similarity judgements. This may happen if you're using one of the small models, e.g. `en_core_web_sm`, which don't ship with word vectors and only use context-sensitive tensors. You can always add your own word vectors, or use one of the larger models instead if available.\n",
      "  g2.similarity(g1)\n"
     ]
    },
    {
     "data": {
      "text/plain": [
       "0.7161104995803708"
      ]
     },
     "execution_count": 71,
     "metadata": {},
     "output_type": "execute_result"
    }
   ],
   "source": [
    "g2.similarity(g1)"
   ]
  },
  {
   "cell_type": "markdown",
   "metadata": {},
   "source": [
    "**It means \"hi\" and \"hello\" are 71% similar to each other**"
   ]
  },
  {
   "cell_type": "code",
   "execution_count": 72,
   "metadata": {},
   "outputs": [],
   "source": [
    "g3 = nlp(\"Science\")"
   ]
  },
  {
   "cell_type": "code",
   "execution_count": 73,
   "metadata": {},
   "outputs": [
    {
     "data": {
      "text/plain": [
       "Science"
      ]
     },
     "execution_count": 73,
     "metadata": {},
     "output_type": "execute_result"
    }
   ],
   "source": [
    "g3"
   ]
  },
  {
   "cell_type": "code",
   "execution_count": 74,
   "metadata": {},
   "outputs": [
    {
     "name": "stderr",
     "output_type": "stream",
     "text": [
      "C:\\Users\\Vedant Kesharia\\AppData\\Local\\Temp\\ipykernel_8040\\1138585424.py:1: UserWarning: [W007] The model you're using has no word vectors loaded, so the result of the Doc.similarity method will be based on the tagger, parser and NER, which may not give useful similarity judgements. This may happen if you're using one of the small models, e.g. `en_core_web_sm`, which don't ship with word vectors and only use context-sensitive tensors. You can always add your own word vectors, or use one of the larger models instead if available.\n",
      "  g3.similarity(g1)\n"
     ]
    },
    {
     "data": {
      "text/plain": [
       "0.28748563162447976"
      ]
     },
     "execution_count": 74,
     "metadata": {},
     "output_type": "execute_result"
    }
   ],
   "source": [
    "g3.similarity(g1)"
   ]
  },
  {
   "cell_type": "markdown",
   "metadata": {},
   "source": [
    "**It means \"hi\" and \"Science\" are 28% similar to each other**"
   ]
  },
  {
   "cell_type": "code",
   "execution_count": 75,
   "metadata": {},
   "outputs": [
    {
     "name": "stderr",
     "output_type": "stream",
     "text": [
      "C:\\Users\\Vedant Kesharia\\AppData\\Local\\Temp\\ipykernel_8040\\3548851985.py:1: UserWarning: [W007] The model you're using has no word vectors loaded, so the result of the Doc.similarity method will be based on the tagger, parser and NER, which may not give useful similarity judgements. This may happen if you're using one of the small models, e.g. `en_core_web_sm`, which don't ship with word vectors and only use context-sensitive tensors. You can always add your own word vectors, or use one of the larger models instead if available.\n",
      "  g3.similarity(g2)\n"
     ]
    },
    {
     "data": {
      "text/plain": [
       "0.35661168808867927"
      ]
     },
     "execution_count": 75,
     "metadata": {},
     "output_type": "execute_result"
    }
   ],
   "source": [
    "g3.similarity(g2)"
   ]
  },
  {
   "cell_type": "code",
   "execution_count": 76,
   "metadata": {},
   "outputs": [],
   "source": [
    "s1 = nlp(\"NLP is useful for dealing with text\")"
   ]
  },
  {
   "cell_type": "code",
   "execution_count": 77,
   "metadata": {},
   "outputs": [],
   "source": [
    "s2 = nlp(\"spacy is part of nlp which is used for ext analysis\")"
   ]
  },
  {
   "cell_type": "code",
   "execution_count": 78,
   "metadata": {},
   "outputs": [],
   "source": [
    "s3 = nlp(\"I like movies\")"
   ]
  },
  {
   "cell_type": "code",
   "execution_count": 79,
   "metadata": {},
   "outputs": [
    {
     "name": "stderr",
     "output_type": "stream",
     "text": [
      "C:\\Users\\Vedant Kesharia\\AppData\\Local\\Temp\\ipykernel_8040\\2578066249.py:1: UserWarning: [W007] The model you're using has no word vectors loaded, so the result of the Doc.similarity method will be based on the tagger, parser and NER, which may not give useful similarity judgements. This may happen if you're using one of the small models, e.g. `en_core_web_sm`, which don't ship with word vectors and only use context-sensitive tensors. You can always add your own word vectors, or use one of the larger models instead if available.\n",
      "  s1.similarity(s2)\n"
     ]
    },
    {
     "data": {
      "text/plain": [
       "0.6080003899689523"
      ]
     },
     "execution_count": 79,
     "metadata": {},
     "output_type": "execute_result"
    }
   ],
   "source": [
    "s1.similarity(s2)"
   ]
  },
  {
   "cell_type": "code",
   "execution_count": 80,
   "metadata": {},
   "outputs": [
    {
     "name": "stderr",
     "output_type": "stream",
     "text": [
      "C:\\Users\\Vedant Kesharia\\AppData\\Local\\Temp\\ipykernel_8040\\2854249872.py:1: UserWarning: [W007] The model you're using has no word vectors loaded, so the result of the Doc.similarity method will be based on the tagger, parser and NER, which may not give useful similarity judgements. This may happen if you're using one of the small models, e.g. `en_core_web_sm`, which don't ship with word vectors and only use context-sensitive tensors. You can always add your own word vectors, or use one of the larger models instead if available.\n",
      "  s1.similarity(s3)\n"
     ]
    },
    {
     "data": {
      "text/plain": [
       "0.08220859058660014"
      ]
     },
     "execution_count": 80,
     "metadata": {},
     "output_type": "execute_result"
    }
   ],
   "source": [
    "s1.similarity(s3)"
   ]
  },
  {
   "cell_type": "code",
   "execution_count": 81,
   "metadata": {},
   "outputs": [
    {
     "name": "stderr",
     "output_type": "stream",
     "text": [
      "C:\\Users\\Vedant Kesharia\\AppData\\Local\\Temp\\ipykernel_8040\\1388493280.py:1: UserWarning: [W007] The model you're using has no word vectors loaded, so the result of the Doc.similarity method will be based on the tagger, parser and NER, which may not give useful similarity judgements. This may happen if you're using one of the small models, e.g. `en_core_web_sm`, which don't ship with word vectors and only use context-sensitive tensors. You can always add your own word vectors, or use one of the larger models instead if available.\n",
      "  s2.similarity(s3)\n"
     ]
    },
    {
     "data": {
      "text/plain": [
       "0.09727017655713574"
      ]
     },
     "execution_count": 81,
     "metadata": {},
     "output_type": "execute_result"
    }
   ],
   "source": [
    "s2.similarity(s3)"
   ]
  },
  {
   "cell_type": "markdown",
   "metadata": {},
   "source": [
    "# Sentence Segmentation"
   ]
  },
  {
   "cell_type": "code",
   "execution_count": 83,
   "metadata": {},
   "outputs": [],
   "source": [
    "doc8 = nlp(\"This is our first sentence. This is another sentence. This is the last sentence.\")"
   ]
  },
  {
   "cell_type": "code",
   "execution_count": 84,
   "metadata": {},
   "outputs": [
    {
     "data": {
      "text/plain": [
       "This is our first sentence. This is another sentence. This is the last sentence."
      ]
     },
     "execution_count": 84,
     "metadata": {},
     "output_type": "execute_result"
    }
   ],
   "source": [
    "doc8"
   ]
  },
  {
   "cell_type": "code",
   "execution_count": 86,
   "metadata": {},
   "outputs": [
    {
     "name": "stdout",
     "output_type": "stream",
     "text": [
      "This is our first sentence.\n",
      "This is another sentence.\n",
      "This is the last sentence.\n"
     ]
    }
   ],
   "source": [
    "for sent in doc8.sents:\n",
    "    print(sent.text)"
   ]
  },
  {
   "cell_type": "markdown",
   "metadata": {},
   "source": [
    "It breaks down based on full stops. It classifies the sentence after aa full stop as new sentence"
   ]
  },
  {
   "cell_type": "code",
   "execution_count": null,
   "metadata": {},
   "outputs": [],
   "source": []
  }
 ],
 "metadata": {
  "kernelspec": {
   "display_name": "Python 3",
   "language": "python",
   "name": "python3"
  },
  "language_info": {
   "codemirror_mode": {
    "name": "ipython",
    "version": 3
   },
   "file_extension": ".py",
   "mimetype": "text/x-python",
   "name": "python",
   "nbconvert_exporter": "python",
   "pygments_lexer": "ipython3",
   "version": "3.12.2"
  }
 },
 "nbformat": 4,
 "nbformat_minor": 2
}
