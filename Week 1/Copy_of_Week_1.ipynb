{
  "cells": [
    {
      "cell_type": "markdown",
      "metadata": {
        "id": "MT3w7e6IUlR_"
      },
      "source": [
        "# **Task 1**\n",
        "\n",
        "## **Learning Period Synapse**\n",
        "\n",
        "Resources: https://www.youtube.com/watch?v=UB3DE5Bgfx4, https://www.youtube.com/watch?v=QUT1VHiLmmI, https://www.youtube.com/watch?v=yZTBMMdPOww, https://www.youtube.com/watch?v=irHhDMbw3xo, https://www.youtube.com/watch?v=s9e2A04lmXI"
      ]
    },
    {
      "cell_type": "markdown",
      "metadata": {
        "id": "t7WG_q-SVPhz"
      },
      "source": [
        "Mounting Google drive"
      ]
    },
    {
      "cell_type": "markdown",
      "metadata": {
        "colab": {
          "base_uri": "https://localhost:8080/"
        },
        "id": "YwO-ECXjUiUA",
        "outputId": "e3528ec6-0e2d-4c86-c6f1-a943a64da886"
      },
      "source": [
        "# from google.colab import drive\n",
        "# drive.mount(\"/content/gdrive\")"
      ]
    },
    {
      "cell_type": "markdown",
      "metadata": {
        "id": "pDnn9JDVVuz6"
      },
      "source": [
        "##**1) Import Pandas, Numpy and Matplotlib**"
      ]
    },
    {
      "cell_type": "code",
      "execution_count": 4,
      "metadata": {},
      "outputs": [],
      "source": [
        "import pandas as pd\n",
        "import numpy as np\n",
        "import matplotlib.pyplot as plt"
      ]
    },
    {
      "cell_type": "markdown",
      "metadata": {
        "id": "o2tKRr_sWH2X"
      },
      "source": [
        "## **2) Load the data**\n",
        "load the titanic dataset in a pandas dataframe\n",
        "(download dataset from https://www.kaggle.com/c/titanic/data and store it in a folder called \"syanpse_w1\" in the root of your drive)\n",
        "Note that you have to download the train and test csv files seperately"
      ]
    },
    {
      "cell_type": "code",
      "execution_count": 5,
      "metadata": {
        "id": "Er3-Y23TWGpM"
      },
      "outputs": [],
      "source": [
        "train_path = \"./train (1).csv\"\n",
        "test_path = \"./test (1).csv\"\n",
        "# Your code starts here\n",
        "train_df = pd.read_csv(train_path)\n",
        "test_df = pd.read_csv(test_path)\n",
        "# Your code ends here"
      ]
    },
    {
      "cell_type": "markdown",
      "metadata": {
        "id": "Zj_dDDRSWnjh"
      },
      "source": [
        "Write code to show first five data entries of both dataframes"
      ]
    },
    {
      "cell_type": "code",
      "execution_count": 6,
      "metadata": {
        "colab": {
          "base_uri": "https://localhost:8080/"
        },
        "id": "C-yho5w4WlxR",
        "outputId": "6dced279-2ea6-44c7-c48e-39a94c9565da"
      },
      "outputs": [
        {
          "name": "stdout",
          "output_type": "stream",
          "text": [
            "First five entries of train dataframe:\n",
            "   PassengerId  Survived  Pclass  \\\n",
            "0            1         0       3   \n",
            "1            2         1       1   \n",
            "2            3         1       3   \n",
            "3            4         1       1   \n",
            "4            5         0       3   \n",
            "\n",
            "                                                Name     Sex   Age  SibSp  \\\n",
            "0                            Braund, Mr. Owen Harris    male  22.0      1   \n",
            "1  Cumings, Mrs. John Bradley (Florence Briggs Th...  female  38.0      1   \n",
            "2                             Heikkinen, Miss. Laina  female  26.0      0   \n",
            "3       Futrelle, Mrs. Jacques Heath (Lily May Peel)  female  35.0      1   \n",
            "4                           Allen, Mr. William Henry    male  35.0      0   \n",
            "\n",
            "   Parch            Ticket     Fare Cabin Embarked  \n",
            "0      0         A/5 21171   7.2500   NaN        S  \n",
            "1      0          PC 17599  71.2833   C85        C  \n",
            "2      0  STON/O2. 3101282   7.9250   NaN        S  \n",
            "3      0            113803  53.1000  C123        S  \n",
            "4      0            373450   8.0500   NaN        S  \n",
            "\n",
            "First five entries of test dataframe:\n",
            "   PassengerId  Pclass                                          Name     Sex  \\\n",
            "0          892       3                              Kelly, Mr. James    male   \n",
            "1          893       3              Wilkes, Mrs. James (Ellen Needs)  female   \n",
            "2          894       2                     Myles, Mr. Thomas Francis    male   \n",
            "3          895       3                              Wirz, Mr. Albert    male   \n",
            "4          896       3  Hirvonen, Mrs. Alexander (Helga E Lindqvist)  female   \n",
            "\n",
            "    Age  SibSp  Parch   Ticket     Fare Cabin Embarked  \n",
            "0  34.5      0      0   330911   7.8292   NaN        Q  \n",
            "1  47.0      1      0   363272   7.0000   NaN        S  \n",
            "2  62.0      0      0   240276   9.6875   NaN        Q  \n",
            "3  27.0      0      0   315154   8.6625   NaN        S  \n",
            "4  22.0      1      1  3101298  12.2875   NaN        S  \n"
          ]
        }
      ],
      "source": [
        "# Your code starts here\n",
        "print(\"First five entries of train dataframe:\")\n",
        "print(train_df.head())\n",
        "\n",
        "print(\"\\nFirst five entries of test dataframe:\")\n",
        "print(test_df.head())\n",
        "# Your code ends here"
      ]
    },
    {
      "cell_type": "markdown",
      "metadata": {
        "id": "IR8vn2hYW5oY"
      },
      "source": [
        "## **3) Exploratory Data Analysis**\n",
        "Exploratory data analysis is a very important part of ML as it helps you understand the data you are dealing with\n",
        "We will be working on the training dataset here to observe and analyze the patterns of the dataset.\n",
        "\n",
        "Pandas documentation: https://pandas.pydata.org/docs/\n",
        "\n",
        "Numpy documentation: https://numpy.org/doc/1.23/"
      ]
    },
    {
      "cell_type": "markdown",
      "metadata": {
        "id": "eK6AzEoeYHbT"
      },
      "source": [
        "### 3.a. Overview of the dataset\n",
        "\n",
        "\n",
        "1.   write code to list the columns in your dataframe\n",
        "2.   write a function that returns the number of rows and columns in the dataset\n",
        "3.   use the info() method of pandas dataframe to print the info related to the dataframe\n",
        "4.   use the describe() method of pandas dataframe to print the statistical description of the dataset\n",
        "5.   Find all columns that have unique values. (example : the Gender column has 2 unique values Male and Female)\n",
        "if the columns have finite unique values, then add them in a dictionary of lists and print it\n",
        "dictionary should look like :\n",
        "\n",
        "  {\"Gender\" : [\"Male\", \"Female\"], \"Col2\" : [\"unique1\", \"unique2\"],...}\n",
        "\n"
      ]
    },
    {
      "cell_type": "code",
      "execution_count": 7,
      "metadata": {
        "colab": {
          "base_uri": "https://localhost:8080/"
        },
        "id": "7Hlf6xJ6WGh6",
        "outputId": "88b88d92-6a01-4b64-ec92-8d715aa32078"
      },
      "outputs": [
        {
          "name": "stdout",
          "output_type": "stream",
          "text": [
            "Columns in the dataframe in train_df: ['PassengerId', 'Survived', 'Pclass', 'Name', 'Sex', 'Age', 'SibSp', 'Parch', 'Ticket', 'Fare', 'Cabin', 'Embarked']\n",
            "Columns in the dataframe in test_df: ['PassengerId', 'Pclass', 'Name', 'Sex', 'Age', 'SibSp', 'Parch', 'Ticket', 'Fare', 'Cabin', 'Embarked']\n"
          ]
        }
      ],
      "source": [
        "# Your code for listing columns starts here\n",
        "columns_list = train_df.columns.tolist()\n",
        "print(\"Columns in the dataframe in train_df:\", columns_list)\n",
        "columns_list2 = test_df.columns.tolist()\n",
        "print(\"Columns in the dataframe in test_df:\", columns_list2)\n",
        "# Your code ends here"
      ]
    },
    {
      "cell_type": "code",
      "execution_count": 8,
      "metadata": {
        "colab": {
          "base_uri": "https://localhost:8080/"
        },
        "id": "m_BzjkEUZPYc",
        "outputId": "51abed5b-d69d-4442-dbb9-58ff88d36e36"
      },
      "outputs": [
        {
          "name": "stdout",
          "output_type": "stream",
          "text": [
            "Train dataset shape: 891 rows x 12 columns\n",
            "Test dataset shape: 418 rows x 11 columns\n"
          ]
        }
      ],
      "source": [
        "# Function to return the number of rows and columns\n",
        "def get_shape(df):\n",
        "    rows, cols = df.shape\n",
        "    return rows, cols\n",
        "\n",
        "# Get the shape of the train and test dataframes\n",
        "train_rows, train_cols = get_shape(train_df)\n",
        "test_rows, test_cols = get_shape(test_df)\n",
        "print(\"Train dataset shape:\", train_rows, \"rows x\", train_cols, \"columns\")\n",
        "print(\"Test dataset shape:\", test_rows, \"rows x\", test_cols, \"columns\")\n"
      ]
    },
    {
      "cell_type": "code",
      "execution_count": 9,
      "metadata": {
        "colab": {
          "base_uri": "https://localhost:8080/"
        },
        "id": "Sc_ExyyTgcOh",
        "outputId": "43fc2be9-2a23-498e-ba36-579fd1b80686"
      },
      "outputs": [
        {
          "name": "stdout",
          "output_type": "stream",
          "text": [
            "<class 'pandas.core.frame.DataFrame'>\n",
            "RangeIndex: 891 entries, 0 to 890\n",
            "Data columns (total 12 columns):\n",
            " #   Column       Non-Null Count  Dtype  \n",
            "---  ------       --------------  -----  \n",
            " 0   PassengerId  891 non-null    int64  \n",
            " 1   Survived     891 non-null    int64  \n",
            " 2   Pclass       891 non-null    int64  \n",
            " 3   Name         891 non-null    object \n",
            " 4   Sex          891 non-null    object \n",
            " 5   Age          714 non-null    float64\n",
            " 6   SibSp        891 non-null    int64  \n",
            " 7   Parch        891 non-null    int64  \n",
            " 8   Ticket       891 non-null    object \n",
            " 9   Fare         891 non-null    float64\n",
            " 10  Cabin        204 non-null    object \n",
            " 11  Embarked     889 non-null    object \n",
            "dtypes: float64(2), int64(5), object(5)\n",
            "memory usage: 83.7+ KB\n",
            "None\n",
            "<class 'pandas.core.frame.DataFrame'>\n",
            "RangeIndex: 418 entries, 0 to 417\n",
            "Data columns (total 11 columns):\n",
            " #   Column       Non-Null Count  Dtype  \n",
            "---  ------       --------------  -----  \n",
            " 0   PassengerId  418 non-null    int64  \n",
            " 1   Pclass       418 non-null    int64  \n",
            " 2   Name         418 non-null    object \n",
            " 3   Sex          418 non-null    object \n",
            " 4   Age          332 non-null    float64\n",
            " 5   SibSp        418 non-null    int64  \n",
            " 6   Parch        418 non-null    int64  \n",
            " 7   Ticket       418 non-null    object \n",
            " 8   Fare         417 non-null    float64\n",
            " 9   Cabin        91 non-null     object \n",
            " 10  Embarked     418 non-null    object \n",
            "dtypes: float64(2), int64(4), object(5)\n",
            "memory usage: 36.1+ KB\n",
            "None\n"
          ]
        }
      ],
      "source": [
        "# Your code for using the info() method starts here\n",
        "print(train_df.info())\n",
        "print(test_df.info())\n",
        "# Your code ends here"
      ]
    },
    {
      "cell_type": "code",
      "execution_count": 10,
      "metadata": {
        "colab": {
          "base_uri": "https://localhost:8080/"
        },
        "id": "-y0p2O9ogjTK",
        "outputId": "52e6f710-ee3e-4cbe-86d2-fe665346ccb2"
      },
      "outputs": [
        {
          "name": "stdout",
          "output_type": "stream",
          "text": [
            "Statistical description of train dataframe:\n",
            "       PassengerId    Survived      Pclass         Age       SibSp  \\\n",
            "count   891.000000  891.000000  891.000000  714.000000  891.000000   \n",
            "mean    446.000000    0.383838    2.308642   29.699118    0.523008   \n",
            "std     257.353842    0.486592    0.836071   14.526497    1.102743   \n",
            "min       1.000000    0.000000    1.000000    0.420000    0.000000   \n",
            "25%     223.500000    0.000000    2.000000   20.125000    0.000000   \n",
            "50%     446.000000    0.000000    3.000000   28.000000    0.000000   \n",
            "75%     668.500000    1.000000    3.000000   38.000000    1.000000   \n",
            "max     891.000000    1.000000    3.000000   80.000000    8.000000   \n",
            "\n",
            "            Parch        Fare  \n",
            "count  891.000000  891.000000  \n",
            "mean     0.381594   32.204208  \n",
            "std      0.806057   49.693429  \n",
            "min      0.000000    0.000000  \n",
            "25%      0.000000    7.910400  \n",
            "50%      0.000000   14.454200  \n",
            "75%      0.000000   31.000000  \n",
            "max      6.000000  512.329200  \n",
            "Statistical description of test dataframe:\n",
            "       PassengerId      Pclass         Age       SibSp       Parch        Fare\n",
            "count   418.000000  418.000000  332.000000  418.000000  418.000000  417.000000\n",
            "mean   1100.500000    2.265550   30.272590    0.447368    0.392344   35.627188\n",
            "std     120.810458    0.841838   14.181209    0.896760    0.981429   55.907576\n",
            "min     892.000000    1.000000    0.170000    0.000000    0.000000    0.000000\n",
            "25%     996.250000    1.000000   21.000000    0.000000    0.000000    7.895800\n",
            "50%    1100.500000    3.000000   27.000000    0.000000    0.000000   14.454200\n",
            "75%    1204.750000    3.000000   39.000000    1.000000    0.000000   31.500000\n",
            "max    1309.000000    3.000000   76.000000    8.000000    9.000000  512.329200\n"
          ]
        }
      ],
      "source": [
        "# Your code for using the describe() method starts here\n",
        "print(\"Statistical description of train dataframe:\")\n",
        "print(train_df.describe())\n",
        "print(\"Statistical description of test dataframe:\")\n",
        "print(test_df.describe())\n",
        "# Your code ends here"
      ]
    },
    {
      "cell_type": "code",
      "execution_count": 11,
      "metadata": {
        "colab": {
          "base_uri": "https://localhost:8080/"
        },
        "id": "Corrpazmgqu7",
        "outputId": "c1dcb61f-03b2-4bf4-cdd5-ad32c1d861c8"
      },
      "outputs": [
        {
          "name": "stdout",
          "output_type": "stream",
          "text": [
            "Columns with finite unique values:\n",
            "{'Survived': [0, 1], 'Pclass': [3, 1, 2], 'Sex': ['male', 'female'], 'Age': [22.0, 38.0, 26.0, 35.0, nan, 54.0, 2.0, 27.0, 14.0, 4.0, 58.0, 20.0, 39.0, 55.0, 31.0, 34.0, 15.0, 28.0, 8.0, 19.0, 40.0, 66.0, 42.0, 21.0, 18.0, 3.0, 7.0, 49.0, 29.0, 65.0, 28.5, 5.0, 11.0, 45.0, 17.0, 32.0, 16.0, 25.0, 0.83, 30.0, 33.0, 23.0, 24.0, 46.0, 59.0, 71.0, 37.0, 47.0, 14.5, 70.5, 32.5, 12.0, 9.0, 36.5, 51.0, 55.5, 40.5, 44.0, 1.0, 61.0, 56.0, 50.0, 36.0, 45.5, 20.5, 62.0, 41.0, 52.0, 63.0, 23.5, 0.92, 43.0, 60.0, 10.0, 64.0, 13.0, 48.0, 0.75, 53.0, 57.0, 80.0, 70.0, 24.5, 6.0, 0.67, 30.5, 0.42, 34.5, 74.0], 'SibSp': [1, 0, 3, 4, 2, 5, 8], 'Parch': [0, 1, 2, 5, 3, 4, 6], 'Ticket': ['A/5 21171', 'PC 17599', 'STON/O2. 3101282', '113803', '373450', '330877', '17463', '349909', '347742', '237736', 'PP 9549', '113783', 'A/5. 2151', '347082', '350406', '248706', '382652', '244373', '345763', '2649', '239865', '248698', '330923', '113788', '347077', '2631', '19950', '330959', '349216', 'PC 17601', 'PC 17569', '335677', 'C.A. 24579', 'PC 17604', '113789', '2677', 'A./5. 2152', '345764', '2651', '7546', '11668', '349253', 'SC/Paris 2123', '330958', 'S.C./A.4. 23567', '370371', '14311', '2662', '349237', '3101295', 'A/4. 39886', 'PC 17572', '2926', '113509', '19947', 'C.A. 31026', '2697', 'C.A. 34651', 'CA 2144', '2669', '113572', '36973', '347088', 'PC 17605', '2661', 'C.A. 29395', 'S.P. 3464', '3101281', '315151', 'C.A. 33111', 'S.O.C. 14879', '2680', '1601', '348123', '349208', '374746', '248738', '364516', '345767', '345779', '330932', '113059', 'SO/C 14885', '3101278', 'W./C. 6608', 'SOTON/OQ 392086', '343275', '343276', '347466', 'W.E.P. 5734', 'C.A. 2315', '364500', '374910', 'PC 17754', 'PC 17759', '231919', '244367', '349245', '349215', '35281', '7540', '3101276', '349207', '343120', '312991', '349249', '371110', '110465', '2665', '324669', '4136', '2627', 'STON/O 2. 3101294', '370369', 'PC 17558', 'A4. 54510', '27267', '370372', 'C 17369', '2668', '347061', '349241', 'SOTON/O.Q. 3101307', 'A/5. 3337', '228414', 'C.A. 29178', 'SC/PARIS 2133', '11752', '7534', 'PC 17593', '2678', '347081', 'STON/O2. 3101279', '365222', '231945', 'C.A. 33112', '350043', '230080', '244310', 'S.O.P. 1166', '113776', 'A.5. 11206', 'A/5. 851', 'Fa 265302', 'PC 17597', '35851', 'SOTON/OQ 392090', '315037', 'CA. 2343', '371362', 'C.A. 33595', '347068', '315093', '363291', '113505', 'PC 17318', '111240', 'STON/O 2. 3101280', '17764', '350404', '4133', 'PC 17595', '250653', 'LINE', 'SC/PARIS 2131', '230136', '315153', '113767', '370365', '111428', '364849', '349247', '234604', '28424', '350046', 'PC 17610', '368703', '4579', '370370', '248747', '345770', '3101264', '2628', 'A/5 3540', '347054', '2699', '367231', '112277', 'SOTON/O.Q. 3101311', 'F.C.C. 13528', 'A/5 21174', '250646', '367229', '35273', 'STON/O2. 3101283', '243847', '11813', 'W/C 14208', 'SOTON/OQ 392089', '220367', '21440', '349234', '19943', 'PP 4348', 'SW/PP 751', 'A/5 21173', '236171', '347067', '237442', 'C.A. 29566', 'W./C. 6609', '26707', 'C.A. 31921', '28665', 'SCO/W 1585', '367230', 'W./C. 14263', 'STON/O 2. 3101275', '2694', '19928', '347071', '250649', '11751', '244252', '362316', '113514', 'A/5. 3336', '370129', '2650', 'PC 17585', '110152', 'PC 17755', '230433', '384461', '110413', '112059', '382649', 'C.A. 17248', '347083', 'PC 17582', 'PC 17760', '113798', '250644', 'PC 17596', '370375', '13502', '347073', '239853', 'C.A. 2673', '336439', '347464', '345778', 'A/5. 10482', '113056', '349239', '345774', '349206', '237798', '370373', '19877', '11967', 'SC/Paris 2163', '349236', '349233', 'PC 17612', '2693', '113781', '19988', '9234', '367226', '226593', 'A/5 2466', '17421', 'PC 17758', 'P/PP 3381', 'PC 17485', '11767', 'PC 17608', '250651', '349243', 'F.C.C. 13529', '347470', '29011', '36928', '16966', 'A/5 21172', '349219', '234818', '345364', '28551', '111361', '113043', 'PC 17611', '349225', '7598', '113784', '248740', '244361', '229236', '248733', '31418', '386525', 'C.A. 37671', '315088', '7267', '113510', '2695', '2647', '345783', '237671', '330931', '330980', 'SC/PARIS 2167', '2691', 'SOTON/O.Q. 3101310', 'C 7076', '110813', '2626', '14313', 'PC 17477', '11765', '3101267', '323951', 'C 7077', '113503', '2648', '347069', 'PC 17757', '2653', 'STON/O 2. 3101293', '349227', '27849', '367655', 'SC 1748', '113760', '350034', '3101277', '350052', '350407', '28403', '244278', '240929', 'STON/O 2. 3101289', '341826', '4137', '315096', '28664', '347064', '29106', '312992', '349222', '394140', 'STON/O 2. 3101269', '343095', '28220', '250652', '28228', '345773', '349254', 'A/5. 13032', '315082', '347080', 'A/4. 34244', '2003', '250655', '364851', 'SOTON/O.Q. 392078', '110564', '376564', 'SC/AH 3085', 'STON/O 2. 3101274', '13507', 'C.A. 18723', '345769', '347076', '230434', '65306', '33638', '113794', '2666', '113786', '65303', '113051', '17453', 'A/5 2817', '349240', '13509', '17464', 'F.C.C. 13531', '371060', '19952', '364506', '111320', '234360', 'A/S 2816', 'SOTON/O.Q. 3101306', '113792', '36209', '323592', '315089', 'SC/AH Basle 541', '7553', '31027', '3460', '350060', '3101298', '239854', 'A/5 3594', '4134', '11771', 'A.5. 18509', '65304', 'SOTON/OQ 3101317', '113787', 'PC 17609', 'A/4 45380', '36947', 'C.A. 6212', '350035', '315086', '364846', '330909', '4135', '26360', '111427', 'C 4001', '382651', 'SOTON/OQ 3101316', 'PC 17473', 'PC 17603', '349209', '36967', 'C.A. 34260', '226875', '349242', '12749', '349252', '2624', '2700', '367232', 'W./C. 14258', 'PC 17483', '3101296', '29104', '2641', '2690', '315084', '113050', 'PC 17761', '364498', '13568', 'WE/P 5735', '2908', '693', 'SC/PARIS 2146', '244358', '330979', '2620', '347085', '113807', '11755', '345572', '372622', '349251', '218629', 'SOTON/OQ 392082', 'SOTON/O.Q. 392087', 'A/4 48871', '349205', '2686', '350417', 'S.W./PP 752', '11769', 'PC 17474', '14312', 'A/4. 20589', '358585', '243880', '2689', 'STON/O 2. 3101286', '237789', '13049', '3411', '237565', '13567', '14973', 'A./5. 3235', 'STON/O 2. 3101273', 'A/5 3902', '364848', 'SC/AH 29037', '248727', '2664', '349214', '113796', '364511', '111426', '349910', '349246', '113804', 'SOTON/O.Q. 3101305', '370377', '364512', '220845', '31028', '2659', '11753', '350029', '54636', '36963', '219533', '349224', '334912', '27042', '347743', '13214', '112052', '237668', 'STON/O 2. 3101292', '350050', '349231', '13213', 'S.O./P.P. 751', 'CA. 2314', '349221', '8475', '330919', '365226', '349223', '29751', '2623', '5727', '349210', 'STON/O 2. 3101285', '234686', '312993', 'A/5 3536', '19996', '29750', 'F.C. 12750', 'C.A. 24580', '244270', '239856', '349912', '342826', '4138', '330935', '6563', '349228', '350036', '24160', '17474', '349256', '2672', '113800', '248731', '363592', '35852', '348121', 'PC 17475', '36864', '350025', '223596', 'PC 17476', 'PC 17482', '113028', '7545', '250647', '348124', '34218', '36568', '347062', '350048', '12233', '250643', '113806', '315094', '36866', '236853', 'STON/O2. 3101271', '239855', '28425', '233639', '349201', '349218', '16988', '376566', 'STON/O 2. 3101288', '250648', '113773', '335097', '29103', '392096', '345780', '349204', '350042', '29108', '363294', 'SOTON/O2 3101272', '2663', '347074', '112379', '364850', '8471', '345781', '350047', 'S.O./P.P. 3', '2674', '29105', '347078', '383121', '36865', '2687', '113501', 'W./C. 6607', 'SOTON/O.Q. 3101312', '374887', '3101265', '12460', 'PC 17600', '349203', '28213', '17465', '349244', '2685', '2625', '347089', '347063', '112050', '347087', '248723', '3474', '28206', '364499', '112058', 'STON/O2. 3101290', 'S.C./PARIS 2079', 'C 7075', '315098', '19972', '368323', '367228', '2671', '347468', '2223', 'PC 17756', '315097', '392092', '11774', 'SOTON/O2 3101287', '2683', '315090', 'C.A. 5547', '349213', '347060', 'PC 17592', '392091', '113055', '2629', '350026', '28134', '17466', '233866', '236852', 'SC/PARIS 2149', 'PC 17590', '345777', '349248', '695', '345765', '2667', '349212', '349217', '349257', '7552', 'C.A./SOTON 34068', 'SOTON/OQ 392076', '211536', '112053', '111369', '370376'], 'Fare': [7.25, 71.2833, 7.925, 53.1, 8.05, 8.4583, 51.8625, 21.075, 11.1333, 30.0708, 16.7, 26.55, 31.275, 7.8542, 16.0, 29.125, 13.0, 18.0, 7.225, 26.0, 8.0292, 35.5, 31.3875, 263.0, 7.8792, 7.8958, 27.7208, 146.5208, 7.75, 10.5, 82.1708, 52.0, 7.2292, 11.2417, 9.475, 21.0, 41.5792, 15.5, 21.6792, 17.8, 39.6875, 7.8, 76.7292, 61.9792, 27.75, 46.9, 80.0, 83.475, 27.9, 15.2458, 8.1583, 8.6625, 73.5, 14.4542, 56.4958, 7.65, 29.0, 12.475, 9.0, 9.5, 7.7875, 47.1, 15.85, 34.375, 61.175, 20.575, 34.6542, 63.3583, 23.0, 77.2875, 8.6542, 7.775, 24.15, 9.825, 14.4583, 247.5208, 7.1417, 22.3583, 6.975, 7.05, 14.5, 15.0458, 26.2833, 9.2167, 79.2, 6.75, 11.5, 36.75, 7.7958, 12.525, 66.6, 7.3125, 61.3792, 7.7333, 69.55, 16.1, 15.75, 20.525, 55.0, 25.925, 33.5, 30.6958, 25.4667, 28.7125, 0.0, 15.05, 39.0, 22.025, 50.0, 8.4042, 6.4958, 10.4625, 18.7875, 31.0, 113.275, 27.0, 76.2917, 90.0, 9.35, 13.5, 7.55, 26.25, 12.275, 7.125, 52.5542, 20.2125, 86.5, 512.3292, 79.65, 153.4625, 135.6333, 19.5, 29.7, 77.9583, 20.25, 78.85, 91.0792, 12.875, 8.85, 151.55, 30.5, 23.25, 12.35, 110.8833, 108.9, 24.0, 56.9292, 83.1583, 262.375, 14.0, 164.8667, 134.5, 6.2375, 57.9792, 28.5, 133.65, 15.9, 9.225, 35.0, 75.25, 69.3, 55.4417, 211.5, 4.0125, 227.525, 15.7417, 7.7292, 12.0, 120.0, 12.65, 18.75, 6.8583, 32.5, 7.875, 14.4, 55.9, 8.1125, 81.8583, 19.2583, 19.9667, 89.1042, 38.5, 7.725, 13.7917, 9.8375, 7.0458, 7.5208, 12.2875, 9.5875, 49.5042, 78.2667, 15.1, 7.6292, 22.525, 26.2875, 59.4, 7.4958, 34.0208, 93.5, 221.7792, 106.425, 49.5, 71.0, 13.8625, 7.8292, 39.6, 17.4, 51.4792, 26.3875, 30.0, 40.125, 8.7125, 15.0, 33.0, 42.4, 15.55, 65.0, 32.3208, 7.0542, 8.4333, 25.5875, 9.8417, 8.1375, 10.1708, 211.3375, 57.0, 13.4167, 7.7417, 9.4833, 7.7375, 8.3625, 23.45, 25.9292, 8.6833, 8.5167, 7.8875, 37.0042, 6.45, 6.95, 8.3, 6.4375, 39.4, 14.1083, 13.8583, 50.4958, 5.0, 9.8458, 10.5167], 'Cabin': [nan, 'C85', 'C123', 'E46', 'G6', 'C103', 'D56', 'A6', 'C23 C25 C27', 'B78', 'D33', 'B30', 'C52', 'B28', 'C83', 'F33', 'F G73', 'E31', 'A5', 'D10 D12', 'D26', 'C110', 'B58 B60', 'E101', 'F E69', 'D47', 'B86', 'F2', 'C2', 'E33', 'B19', 'A7', 'C49', 'F4', 'A32', 'B4', 'B80', 'A31', 'D36', 'D15', 'C93', 'C78', 'D35', 'C87', 'B77', 'E67', 'B94', 'C125', 'C99', 'C118', 'D7', 'A19', 'B49', 'D', 'C22 C26', 'C106', 'C65', 'E36', 'C54', 'B57 B59 B63 B66', 'C7', 'E34', 'C32', 'B18', 'C124', 'C91', 'E40', 'T', 'C128', 'D37', 'B35', 'E50', 'C82', 'B96 B98', 'E10', 'E44', 'A34', 'C104', 'C111', 'C92', 'E38', 'D21', 'E12', 'E63', 'A14', 'B37', 'C30', 'D20', 'B79', 'E25', 'D46', 'B73', 'C95', 'B38', 'B39', 'B22', 'C86', 'C70', 'A16', 'C101', 'C68', 'A10', 'E68', 'B41', 'A20', 'D19', 'D50', 'D9', 'A23', 'B50', 'A26', 'D48', 'E58', 'C126', 'B71', 'B51 B53 B55', 'D49', 'B5', 'B20', 'F G63', 'C62 C64', 'E24', 'C90', 'C45', 'E8', 'B101', 'D45', 'C46', 'D30', 'E121', 'D11', 'E77', 'F38', 'B3', 'D6', 'B82 B84', 'D17', 'A36', 'B102', 'B69', 'E49', 'C47', 'D28', 'E17', 'A24', 'C50', 'B42', 'C148'], 'Embarked': ['S', 'C', 'Q', nan]}\n"
          ]
        }
      ],
      "source": [
        "# Your code for creating a dictionary of unique values in every column starts here\n",
        "unique_values_dict = {}\n",
        "for col in train_df.columns:\n",
        "  unique_values = train_df[col].unique()\n",
        "  if len(unique_values) < train_rows:  # Ignoring columns with all unique values\n",
        "        unique_values_dict[col] = unique_values.tolist()\n",
        "\n",
        "print(\"Columns with finite unique values:\")\n",
        "print(unique_values_dict)\n",
        "# Your code ends here"
      ]
    },
    {
      "cell_type": "markdown",
      "metadata": {
        "id": "89nETDabfklE"
      },
      "source": [
        "### 3.b. Visualizing hidden Details\n",
        "Aim is to find relationship between Title and Survival rate\n",
        "\n",
        "\n",
        "*   print the name column of the data\n",
        "*   notice that the word after the first comma encapsulates the title of the person (Mr., Mrs, etc)\n",
        "*   extract the title using regular expression (help given below in the code)\n",
        "*   store the title in a new column in the dataframe. Name the column : Title\n",
        "\n"
      ]
    },
    {
      "cell_type": "code",
      "execution_count": 12,
      "metadata": {
        "colab": {
          "base_uri": "https://localhost:8080/"
        },
        "id": "ps09FrE7ZPVE",
        "outputId": "1df7e2c1-5df0-4f81-c7e2-aade498e409a"
      },
      "outputs": [
        {
          "name": "stdout",
          "output_type": "stream",
          "text": [
            "0                                Braund, Mr. Owen Harris\n",
            "1      Cumings, Mrs. John Bradley (Florence Briggs Th...\n",
            "2                                 Heikkinen, Miss. Laina\n",
            "3           Futrelle, Mrs. Jacques Heath (Lily May Peel)\n",
            "4                               Allen, Mr. William Henry\n",
            "                             ...                        \n",
            "886                                Montvila, Rev. Juozas\n",
            "887                         Graham, Miss. Margaret Edith\n",
            "888             Johnston, Miss. Catherine Helen \"Carrie\"\n",
            "889                                Behr, Mr. Karl Howell\n",
            "890                                  Dooley, Mr. Patrick\n",
            "Name: Name, Length: 891, dtype: object\n"
          ]
        }
      ],
      "source": [
        "# Your code starts here (for regex help refer next code cell)\n",
        "print(train_df[\"Name\"])\n",
        "title_regex = r',\\s*([^\\.]+)\\.'\n",
        "\n",
        "# Your code ends here"
      ]
    },
    {
      "cell_type": "code",
      "execution_count": 13,
      "metadata": {
        "id": "94Zu_5wJhCaj"
      },
      "outputs": [
        {
          "name": "stdout",
          "output_type": "stream",
          "text": [
            "result: <re.Match object; span=(10, 15), match='Miss.'>\n",
            "pattern found\n",
            "title: Miss\n"
          ]
        },
        {
          "name": "stderr",
          "output_type": "stream",
          "text": [
            "<>:5: SyntaxWarning: invalid escape sequence '\\w'\n",
            "<>:5: SyntaxWarning: invalid escape sequence '\\w'\n",
            "C:\\Users\\Vedant Kesharia\\AppData\\Local\\Temp\\ipykernel_19280\\3856693525.py:5: SyntaxWarning: invalid escape sequence '\\w'\n",
            "  title_search = re.search('(\\w+)\\.', name_eg) #the first argument is a pattern that we are looking for\n"
          ]
        }
      ],
      "source": [
        "# regex example\n",
        "import re\n",
        "\n",
        "name_eg = \"Petranec, Miss. Matilda\"\n",
        "title_search = re.search('(\\w+)\\.', name_eg) #the first argument is a pattern that we are looking for\n",
        "print(\"result:\", title_search) #this is the result we get after looking for the pattern\n",
        "if title_search:\n",
        "  print(\"pattern found\") #pattern found printed if a pattern like above is found\n",
        "  title = title_search.group(1) #extracting the pattern found by regular expression (title here)\n",
        "  print(\"title:\", title)"
      ]
    },
    {
      "cell_type": "code",
      "execution_count": 14,
      "metadata": {
        "colab": {
          "base_uri": "https://localhost:8080/"
        },
        "id": "J9CUzifvhCX5",
        "outputId": "dc698264-41bf-49a5-8210-a4f19f2f7cb3"
      },
      "outputs": [
        {
          "name": "stdout",
          "output_type": "stream",
          "text": [
            "   PassengerId  Survived  Pclass  \\\n",
            "0            1         0       3   \n",
            "1            2         1       1   \n",
            "2            3         1       3   \n",
            "3            4         1       1   \n",
            "4            5         0       3   \n",
            "\n",
            "                                                Name     Sex   Age  SibSp  \\\n",
            "0                            Braund, Mr. Owen Harris    male  22.0      1   \n",
            "1  Cumings, Mrs. John Bradley (Florence Briggs Th...  female  38.0      1   \n",
            "2                             Heikkinen, Miss. Laina  female  26.0      0   \n",
            "3       Futrelle, Mrs. Jacques Heath (Lily May Peel)  female  35.0      1   \n",
            "4                           Allen, Mr. William Henry    male  35.0      0   \n",
            "\n",
            "   Parch            Ticket     Fare Cabin Embarked Title  \n",
            "0      0         A/5 21171   7.2500   NaN        S    Mr  \n",
            "1      0          PC 17599  71.2833   C85        C   Mrs  \n",
            "2      0  STON/O2. 3101282   7.9250   NaN        S  Miss  \n",
            "3      0            113803  53.1000  C123        S   Mrs  \n",
            "4      0            373450   8.0500   NaN        S    Mr  \n"
          ]
        }
      ],
      "source": [
        "# show the new dataframe with \"Title\" column here\n",
        "train_df[\"Title\"] = train_df[\"Name\"].str.extract(title_regex)[0]\n",
        "print(train_df.head())\n",
        "# Your code ends here"
      ]
    },
    {
      "cell_type": "markdown",
      "metadata": {
        "id": "YEZPL1cb0KJ_"
      },
      "source": [
        "\n",
        "\n",
        "*   Write code to get unique values from the title column\n",
        "*   Use the unique titles to find the number of people who survived (1) and number of people who did not (0) for each title. num_survived/total will give the survival rate for that title\n",
        "*   Make a new dataframe called SR_df and add the survival rates corresponding to titles in it\n",
        "  \n",
        "  You may write a function for the above.\n",
        "  \n",
        "\n",
        "\n",
        "```\n",
        "# This is formatted as code\n",
        "```\n",
        "\n",
        "  \n",
        "  Expected output :\n",
        "\n",
        "  Mr    0.679392\n",
        "\n",
        "  Capt    0.1245\n",
        "  \n",
        "  .\n",
        "  \n",
        "  .\n",
        "  \n",
        "  .\n",
        "\n"
      ]
    },
    {
      "cell_type": "code",
      "execution_count": 15,
      "metadata": {
        "colab": {
          "base_uri": "https://localhost:8080/"
        },
        "id": "8UC58_i0hCTv",
        "outputId": "eb96e3e0-5be4-4928-8993-168a836b5832"
      },
      "outputs": [
        {
          "name": "stdout",
          "output_type": "stream",
          "text": [
            "Mr 0.156673\n",
            "Mrs 0.792000\n",
            "Miss 0.697802\n",
            "Master 0.575000\n",
            "Don 0.000000\n",
            "Rev 0.000000\n",
            "Dr 0.428571\n",
            "Mme 1.000000\n",
            "Ms 1.000000\n",
            "Major 0.500000\n",
            "Lady 1.000000\n",
            "Sir 1.000000\n",
            "Mlle 1.000000\n",
            "Col 0.500000\n",
            "Capt 0.000000\n",
            "the Countess 1.000000\n",
            "Jonkheer 0.000000\n"
          ]
        }
      ],
      "source": [
        "# Your code starts here\n",
        "import re\n",
        "\n",
        "# Load the data from CSV file into a DataFrame\n",
        "\n",
        "def extract_title(name):\n",
        "    title_regex = r',\\s*([^\\.]+)\\.'\n",
        "    title_match = re.search(title_regex, name)\n",
        "    if title_match:\n",
        "        return title_match.group(1)\n",
        "    else:\n",
        "        return None\n",
        "\n",
        "def calculate_survival_rate(df, title):\n",
        "    total_count = df[df[\"Title\"] == title].shape[0]\n",
        "    survived_count = df[(df[\"Title\"] == title) & (df[\"Survived\"] == 1)].shape[0]\n",
        "    survival_rate = survived_count / total_count if total_count > 0 else 0\n",
        "    return survival_rate\n",
        "\n",
        "# Extract titles using regular expression and create a new \"Title\" column\n",
        "train_df[\"Title\"] = train_df[\"Name\"].apply(extract_title)\n",
        "\n",
        "# Get unique titles from the \"Title\" column\n",
        "unique_titles = train_df[\"Title\"].unique()\n",
        "\n",
        "# Calculate and store survival rates for each title\n",
        "survival_rates = {}\n",
        "for title in unique_titles:\n",
        "    survival_rate = calculate_survival_rate(train_df, title)\n",
        "    survival_rates[title] = survival_rate\n",
        "\n",
        "# Print the survival rates\n",
        "for title, rate in survival_rates.items():\n",
        "    print(title, format(rate, '.6f'))"
      ]
    },
    {
      "cell_type": "code",
      "execution_count": 16,
      "metadata": {
        "colab": {
          "base_uri": "https://localhost:8080/"
        },
        "id": "GjcMoSceWGeb",
        "outputId": "2d519248-2f5d-4041-c167-de6ae0985514"
      },
      "outputs": [
        {
          "name": "stdout",
          "output_type": "stream",
          "text": [
            "           Title  Survival Rate\n",
            "0             Mr       0.156673\n",
            "1            Mrs       0.792000\n",
            "2           Miss       0.697802\n",
            "3         Master       0.575000\n",
            "4            Don       0.000000\n",
            "5            Rev       0.000000\n",
            "6             Dr       0.428571\n",
            "7            Mme       1.000000\n",
            "8             Ms       1.000000\n",
            "9          Major       0.500000\n",
            "10          Lady       1.000000\n",
            "11           Sir       1.000000\n",
            "12          Mlle       1.000000\n",
            "13           Col       0.500000\n",
            "14          Capt       0.000000\n",
            "15  the Countess       1.000000\n",
            "16      Jonkheer       0.000000\n"
          ]
        }
      ],
      "source": [
        "# show the new dataframe SR_df here\n",
        "SR_df = pd.DataFrame(list(survival_rates.items()), columns=[\"Title\", \"Survival Rate\"])\n",
        "\n",
        "# Display the survival rates DataFrame\n",
        "print(SR_df)\n"
      ]
    },
    {
      "cell_type": "markdown",
      "metadata": {
        "id": "y7vZ9rfT0_pA"
      },
      "source": [
        "Use SR_df to plot a bar graph for survival rate vs Title"
      ]
    },
    {
      "cell_type": "code",
      "execution_count": 17,
      "metadata": {
        "colab": {
          "base_uri": "https://localhost:8080/",
          "height": 607
        },
        "id": "ng4W58Ip07ZK",
        "outputId": "01648720-4864-4f01-8ce4-0f1116a5eb92"
      },
      "outputs": [
        {
          "data": {
            "image/png": "[encoded data removed]",
            "text/plain": [
              "<Figure size 1000x600 with 1 Axes>"
            ]
          },
          "metadata": {},
          "output_type": "display_data"
        }
      ],
      "source": [
        "# Your code starts here\n",
        "plt.figure(figsize=(10, 6))\n",
        "plt.bar(SR_df[\"Title\"], SR_df[\"Survival Rate\"], color='blue')\n",
        "plt.xlabel(\"Title\")\n",
        "plt.ylabel(\"Survival Rate\")\n",
        "plt.title(\"Survival Rate vs Title\")\n",
        "plt.xticks(rotation=45)\n",
        "plt.tight_layout()\n",
        "\n",
        "# Show the plot\n",
        "plt.show()\n",
        "# Your code ends here"
      ]
    },
    {
      "cell_type": "markdown",
      "metadata": {
        "id": "8NPjrR601MJF"
      },
      "source": [
        "This brings us to the end of EDA.\n",
        "\n",
        "You may feel free to do more exploratry analysis.\n",
        "\n",
        "The aim of this notebook is not to point out every small detail but to give you an overview and guide you"
      ]
    },
    {
      "cell_type": "markdown",
      "metadata": {
        "id": "ko890jIP1aeT"
      },
      "source": [
        "## **4) Data Visualization**\n",
        "\n",
        "Matplotlib documentation: https://matplotlib.org/stable/index.html\n",
        "\n",
        "*   Make a pie chart to show the number of people who survived and number of people who did not\n",
        "*   Make a pie chart to show the number of Males who survived and number of people who did not\n",
        "*   Make a pie chart to show the number of Females who survived and number of people who did not\n",
        "\n",
        "  Note that all three charts must be visible in a single row (look into subplots)\n",
        "\n"
      ]
    },
    {
      "cell_type": "code",
      "execution_count": 18,
      "metadata": {
        "colab": {
          "base_uri": "https://localhost:8080/",
          "height": 393
        },
        "id": "Ha7ilLRU07XB",
        "outputId": "7b8b5d31-8316-4a57-aebd-2c507e75db15"
      },
      "outputs": [
        {
          "data": {
            "image/png": "[encoded data removed]",
            "text/plain": [
              "<Figure size 1800x600 with 3 Axes>"
            ]
          },
          "metadata": {},
          "output_type": "display_data"
        }
      ],
      "source": [
        "# Your code starts here\n",
        "fig, axs = plt.subplots(1, 3, figsize=(18, 6))\n",
        "\n",
        "# Pie chart 1: Total Survival\n",
        "total_survived = train_df[train_df['Survived'] == 1].shape[0]\n",
        "total_not_survived = train_df[train_df['Survived'] == 0].shape[0]\n",
        "axs[0].pie([total_survived, total_not_survived], labels=['Survived', 'Not Survived'], autopct='%1.1f%%', startangle=90)\n",
        "axs[0].set_title('Total Survival')\n",
        "\n",
        "# Pie chart 2: Male Survival\n",
        "male_survived = train_df[(train_df[\"Sex\"]=='male')&(train_df['Survived']==1)].shape[0]\n",
        "male_not_survived = train_df[(train_df[\"Sex\"]=='male')&(train_df['Survived']==0)].shape[0]\n",
        "axs[1].pie([male_survived,male_not_survived],labels=['Survived','Not Survived'],autopct='%1.1f%%', startangle=90)\n",
        "axs[1].set_title('Male Survival')\n",
        "\n",
        "\n",
        "# Pie chart 3: Female Survival\n",
        "female_survived = train_df[(train_df['Sex'] == 'female') & (train_df['Survived'] == 1)].shape[0]\n",
        "female_not_survived = train_df[(train_df['Sex'] == 'female') & (train_df['Survived'] == 0)].shape[0]\n",
        "axs[2].pie([female_survived, female_not_survived], labels=['Survived', 'Not Survived'], autopct='%1.1f%%', startangle=90)\n",
        "axs[2].set_title('Female Survival')\n",
        "\n",
        "# Display the subplots\n",
        "plt.tight_layout()\n",
        "plt.show()\n",
        "# Your code ends here"
      ]
    },
    {
      "cell_type": "markdown",
      "metadata": {
        "id": "t5-HlUiu14wv"
      },
      "source": [
        "\n",
        "\n",
        "*   Find if money affected survival rate (fare and Pclass)\n",
        "*   Make a bar graph showing Pclass vs survival rate\n",
        "*   Make a KDE plot (use the sns library) and plot Fare based on the Survival (google away for this one)\n",
        "\n"
      ]
    },
    {
      "cell_type": "code",
      "execution_count": 20,
      "metadata": {
        "colab": {
          "base_uri": "https://localhost:8080/",
          "height": 1000
        },
        "id": "bkajVf0H07RX",
        "outputId": "7e090d50-58da-4e2f-ac1a-430a7c8b8c59"
      },
      "outputs": [
        {
          "data": {
            "image/png": "[encoded data removed]",
            "text/plain": [
              "<Figure size 800x500 with 1 Axes>"
            ]
          },
          "metadata": {},
          "output_type": "display_data"
        },
        {
          "data": {
            "image/png": "[encoded data removed]",
            "text/plain": [
              "<Figure size 1000x600 with 1 Axes>"
            ]
          },
          "metadata": {},
          "output_type": "display_data"
        }
      ],
      "source": [
        "# Your code starts here\n",
        "import seaborn as sns\n",
        "#Find if money affected survival rate (fare and Pclass), Make a bar graph showing Pclass vs survival rate\n",
        "pclass_survival = train_df.groupby('Pclass')['Survived'].mean()\n",
        "plt.figure(figsize=(8, 5))\n",
        "plt.bar(pclass_survival.index, pclass_survival.values, color='skyblue')\n",
        "plt.xlabel('Pclass')\n",
        "plt.ylabel('Survival Rate')\n",
        "plt.title('Pclass vs Survival Rate')\n",
        "plt.show()\n",
        "\n",
        "#Make a KDE plot (use the sns library) and plot Fare based on the Survival (google away for this one)\n",
        "plt.figure(figsize=(10, 6))\n",
        "sns.kdeplot(train_df[train_df['Survived'] == 1]['Fare'], label='Survived', fill=True)\n",
        "sns.kdeplot(train_df[train_df['Survived'] == 0]['Fare'], label='Not Survived', fill=True)\n",
        "plt.xlabel('Fare')\n",
        "plt.ylabel('Density')\n",
        "plt.title('Fare Distribution based on Survival')\n",
        "plt.legend()\n",
        "plt.show()\n",
        "\n",
        "# Your code ends here"
      ]
    },
    {
      "cell_type": "markdown",
      "metadata": {
        "id": "p_bnWOyl2OM6"
      },
      "source": [
        "## **5) Preprocessing**\n",
        "Preprocessing is an important step before we step into modelling. It is a step that prevents the Rubbish in Rubbish out concept of flawed data.\n",
        "*   when we added the Title column in the datadframe, we did preprocessing on the existing data to extract relevant information. As we also tried to explore and understand the data using survival rate, we saw it under EDA.\n",
        "\n",
        "### 5.a. Removing unnecessary columns\n",
        "*   The columns PassengerId and Ticket play no logical role in being related to the survival of a passenger. Hence we will remove them.\n",
        "*   We will also remove the Name column as we have done feature extraction and obtained titles instead. (test set might have extra titles which are not in the train set. Think about how we would consider them. This however doesn't affect task 1's objective)"
      ]
    },
    {
      "cell_type": "code",
      "execution_count": 21,
      "metadata": {
        "id": "uNyrIZYA2Kou"
      },
      "outputs": [],
      "source": [
        "# Your code to rmove the unnecessary columns starts here\n",
        "# columns_to_remove = ['PassengerId', 'Ticket','Name']\n",
        "# train_df1 = train_df.copy()\n",
        "# train_df1.drop(columns=columns_to_remove, axis=1)\n",
        "\n",
        "# print(train_df1.head())\n",
        "# Your code ends here"
      ]
    },
    {
      "cell_type": "markdown",
      "metadata": {
        "id": "7SiMBJwt31-h"
      },
      "source": [
        "### 5.b. Nan analysis\n",
        "*   write code to find the percentage of Nans in each column and visualize it in a tabular format\n",
        "*   remove any column having more than 50% Nans as they would be of no use"
      ]
    },
    {
      "cell_type": "code",
      "execution_count": 22,
      "metadata": {
        "colab": {
          "base_uri": "https://localhost:8080/"
        },
        "id": "usrzCf_030zV",
        "outputId": "20b03785-a048-4154-d14f-e8f4e100fbbf"
      },
      "outputs": [
        {
          "name": "stdout",
          "output_type": "stream",
          "text": [
            "         Column  NaN Percentage\n",
            "0   PassengerId        0.000000\n",
            "1      Survived        0.000000\n",
            "2        Pclass        0.000000\n",
            "3          Name        0.000000\n",
            "4           Sex        0.000000\n",
            "5           Age       19.865320\n",
            "6         SibSp        0.000000\n",
            "7         Parch        0.000000\n",
            "8        Ticket        0.000000\n",
            "9          Fare        0.000000\n",
            "10        Cabin       77.104377\n",
            "11     Embarked        0.224467\n",
            "12        Title        0.000000\n",
            "   PassengerId  Survived  Pclass  \\\n",
            "0            1         0       3   \n",
            "1            2         1       1   \n",
            "2            3         1       3   \n",
            "3            4         1       1   \n",
            "4            5         0       3   \n",
            "\n",
            "                                                Name     Sex   Age  SibSp  \\\n",
            "0                            Braund, Mr. Owen Harris    male  22.0      1   \n",
            "1  Cumings, Mrs. John Bradley (Florence Briggs Th...  female  38.0      1   \n",
            "2                             Heikkinen, Miss. Laina  female  26.0      0   \n",
            "3       Futrelle, Mrs. Jacques Heath (Lily May Peel)  female  35.0      1   \n",
            "4                           Allen, Mr. William Henry    male  35.0      0   \n",
            "\n",
            "   Parch            Ticket     Fare Embarked Title  \n",
            "0      0         A/5 21171   7.2500        S    Mr  \n",
            "1      0          PC 17599  71.2833        C   Mrs  \n",
            "2      0  STON/O2. 3101282   7.9250        S  Miss  \n",
            "3      0            113803  53.1000        S   Mrs  \n",
            "4      0            373450   8.0500        S    Mr  \n"
          ]
        }
      ],
      "source": [
        "# Your code starts here\n",
        "# Calculate the percentage of NaNs in each column\n",
        "nan_percentages = (train_df.isnull().sum() / len(train_df)) * 100\n",
        "\n",
        "# Visualize the percentage of NaNs in a tabular format\n",
        "nan_table = pd.DataFrame({'Column': nan_percentages.index, 'NaN Percentage': nan_percentages.values})\n",
        "print(nan_table)\n",
        "\n",
        "# Remove columns with more than 50% NaNs\n",
        "columns_to_remove = nan_percentages[nan_percentages > 50].index\n",
        "train_df_cleaned = train_df.drop(columns=columns_to_remove)\n",
        "\n",
        "# Print the head of the cleaned DataFrame\n",
        "print(train_df_cleaned.head())\n",
        "# Your code ends here"
      ]
    },
    {
      "cell_type": "markdown",
      "metadata": {
        "id": "5_3T6TfI4KoC"
      },
      "source": [
        "*   Fill Nans in the Embark column with the statistical mode\n",
        "*   Fill Nans in the Age column with it's statistical mean"
      ]
    },
    {
      "cell_type": "code",
      "execution_count": 23,
      "metadata": {
        "colab": {
          "base_uri": "https://localhost:8080/"
        },
        "id": "YRtBp3ou2Kly",
        "outputId": "fbf4ef9d-261e-44e3-94fd-4e32ddf0c1a1"
      },
      "outputs": [
        {
          "name": "stdout",
          "output_type": "stream",
          "text": [
            "   PassengerId  Survived  Pclass  \\\n",
            "0            1         0       3   \n",
            "1            2         1       1   \n",
            "2            3         1       3   \n",
            "3            4         1       1   \n",
            "4            5         0       3   \n",
            "\n",
            "                                                Name     Sex   Age  SibSp  \\\n",
            "0                            Braund, Mr. Owen Harris    male  22.0      1   \n",
            "1  Cumings, Mrs. John Bradley (Florence Briggs Th...  female  38.0      1   \n",
            "2                             Heikkinen, Miss. Laina  female  26.0      0   \n",
            "3       Futrelle, Mrs. Jacques Heath (Lily May Peel)  female  35.0      1   \n",
            "4                           Allen, Mr. William Henry    male  35.0      0   \n",
            "\n",
            "   Parch            Ticket     Fare Cabin Embarked Title  \n",
            "0      0         A/5 21171   7.2500   NaN        S    Mr  \n",
            "1      0          PC 17599  71.2833   C85        C   Mrs  \n",
            "2      0  STON/O2. 3101282   7.9250   NaN        S  Miss  \n",
            "3      0            113803  53.1000  C123        S   Mrs  \n",
            "4      0            373450   8.0500   NaN        S    Mr  \n"
          ]
        },
        {
          "name": "stderr",
          "output_type": "stream",
          "text": [
            "C:\\Users\\Vedant Kesharia\\AppData\\Local\\Temp\\ipykernel_19280\\98660367.py:4: FutureWarning: A value is trying to be set on a copy of a DataFrame or Series through chained assignment using an inplace method.\n",
            "The behavior will change in pandas 3.0. This inplace method will never work because the intermediate object on which we are setting values always behaves as a copy.\n",
            "\n",
            "For example, when doing 'df[col].method(value, inplace=True)', try using 'df.method({col: value}, inplace=True)' or df[col] = df[col].method(value) instead, to perform the operation inplace on the original object.\n",
            "\n",
            "\n",
            "  train_df['Embarked'].fillna(embark_mode, inplace=True)  # Fill NaNs with the mode\n",
            "C:\\Users\\Vedant Kesharia\\AppData\\Local\\Temp\\ipykernel_19280\\98660367.py:8: FutureWarning: A value is trying to be set on a copy of a DataFrame or Series through chained assignment using an inplace method.\n",
            "The behavior will change in pandas 3.0. This inplace method will never work because the intermediate object on which we are setting values always behaves as a copy.\n",
            "\n",
            "For example, when doing 'df[col].method(value, inplace=True)', try using 'df.method({col: value}, inplace=True)' or df[col] = df[col].method(value) instead, to perform the operation inplace on the original object.\n",
            "\n",
            "\n",
            "  train_df['Age'].fillna(age_mean, inplace=True)  # Fill NaNs with the mean\n"
          ]
        }
      ],
      "source": [
        "# Your code starts here\n",
        " # Fill NaNs in the Embark column with the mode\n",
        "embark_mode = train_df['Embarked'].mode()[0]  # Calculate the mode\n",
        "train_df['Embarked'].fillna(embark_mode, inplace=True)  # Fill NaNs with the mode\n",
        "\n",
        "# Fill NaNs in the Age column with the mean\n",
        "age_mean = train_df['Age'].mean()  # Calculate the mean\n",
        "train_df['Age'].fillna(age_mean, inplace=True)  # Fill NaNs with the mean\n",
        "\n",
        "# Print the updated DataFrame\n",
        "print(train_df.head())\n",
        "# Your code ends here"
      ]
    },
    {
      "cell_type": "markdown",
      "metadata": {
        "id": "UVA5dmo64agZ"
      },
      "source": [
        "*   show the new Nan percentage vs column name table after filling and removing to make sure there are no Nans"
      ]
    },
    {
      "cell_type": "code",
      "execution_count": 24,
      "metadata": {
        "colab": {
          "base_uri": "https://localhost:8080/"
        },
        "id": "X7mqaLDM2KiG",
        "outputId": "dbcffb05-b4bf-4aea-fe45-ecc58c6389fb"
      },
      "outputs": [
        {
          "name": "stdout",
          "output_type": "stream",
          "text": [
            "         Column  NaN Percentage\n",
            "0   PassengerId        0.000000\n",
            "1      Survived        0.000000\n",
            "2        Pclass        0.000000\n",
            "3          Name        0.000000\n",
            "4           Sex        0.000000\n",
            "5           Age       19.865320\n",
            "6         SibSp        0.000000\n",
            "7         Parch        0.000000\n",
            "8        Ticket        0.000000\n",
            "9          Fare        0.000000\n",
            "10     Embarked        0.224467\n",
            "11        Title        0.000000\n"
          ]
        }
      ],
      "source": [
        "# Your code starts here\n",
        "# Calculate the percentage of NaNs after filling and removing\n",
        "updated_nan_percentages = (train_df_cleaned.isnull().sum() / len(train_df_cleaned)) * 100\n",
        "\n",
        "# Visualize the updated percentage of NaNs in a tabular format\n",
        "updated_nan_table = pd.DataFrame({'Column': updated_nan_percentages.index, 'NaN Percentage': updated_nan_percentages.values})\n",
        "print(updated_nan_table)\n",
        "\n",
        "# Your code ends here"
      ]
    },
    {
      "cell_type": "markdown",
      "metadata": {
        "id": "uXNr-XBG4gQk"
      },
      "source": [
        "### 5.c. Adding features to the dataset\n",
        "*   Read the kaggle link (titanic dataset) provided above and see what the two columns SibSP and Parch signify\n",
        "*   Using that create a new column called **Family_members**\n",
        "*   Fill it with the sum of SibSP and Parch"
      ]
    },
    {
      "cell_type": "code",
      "execution_count": 25,
      "metadata": {
        "colab": {
          "base_uri": "https://localhost:8080/"
        },
        "id": "bKsj6Se_2Kfp",
        "outputId": "3ad1e864-3d58-4e82-f176-53adff74b767"
      },
      "outputs": [
        {
          "name": "stdout",
          "output_type": "stream",
          "text": [
            "   PassengerId  Survived  Pclass  \\\n",
            "0            1         0       3   \n",
            "1            2         1       1   \n",
            "2            3         1       3   \n",
            "3            4         1       1   \n",
            "4            5         0       3   \n",
            "\n",
            "                                                Name     Sex   Age  SibSp  \\\n",
            "0                            Braund, Mr. Owen Harris    male  22.0      1   \n",
            "1  Cumings, Mrs. John Bradley (Florence Briggs Th...  female  38.0      1   \n",
            "2                             Heikkinen, Miss. Laina  female  26.0      0   \n",
            "3       Futrelle, Mrs. Jacques Heath (Lily May Peel)  female  35.0      1   \n",
            "4                           Allen, Mr. William Henry    male  35.0      0   \n",
            "\n",
            "   Parch            Ticket     Fare Cabin Embarked Title  Family_members  \n",
            "0      0         A/5 21171   7.2500   NaN        S    Mr               1  \n",
            "1      0          PC 17599  71.2833   C85        C   Mrs               1  \n",
            "2      0  STON/O2. 3101282   7.9250   NaN        S  Miss               0  \n",
            "3      0            113803  53.1000  C123        S   Mrs               1  \n",
            "4      0            373450   8.0500   NaN        S    Mr               0  \n"
          ]
        }
      ],
      "source": [
        "# Your code starts here\n",
        "# Create a new column 'Family_members' by summing 'SibSp' and 'Parch'\n",
        "train_df['Family_members'] = train_df['SibSp'] + train_df['Parch']\n",
        "\n",
        "# Print the updated DataFrame\n",
        "print(train_df.head())\n",
        "# Your code ends here"
      ]
    },
    {
      "cell_type": "markdown",
      "metadata": {
        "id": "DidzdpMD46O7"
      },
      "source": [
        "### 5.d. Scaling and Normalization\n",
        "We don't want to give undue advantage to a few columns (when training models), just because they have a numeric data that is larger in magnitude.\n",
        "Therefore we scale all values down to a specific range or distribution\n",
        "\n",
        "Columns to apply scaling on:\n",
        "*   Age\n",
        "*   Fare\n",
        "*   Family_members\n",
        "\n",
        "Although Pclass column is numeric, it contains classification data (only 1, 2 and 3). Therefore only continuous data like age, fare, etc needs to be normalized.\n",
        "Read about standardization and normalization in this link https://www.geeksforgeeks.org/normalization-vs-standardization/ .\n",
        "Apply the formulas given in the link above and scale/normalize the features that are supposed to be scaled\n",
        "It is your choice to choose whether you choose to normalize or standardize a column. You will be able to make your choice after reading the link contents.\n",
        "If you feel confused with the choice, then you can go ahead and directly normalize."
      ]
    },
    {
      "cell_type": "markdown",
      "metadata": {
        "id": "J_asyRszvZY_"
      },
      "source": [
        "Normalization or Min-Max Scaling is used to transform features to be on a similar scale. The new point is calculated as:\n",
        "\n",
        "X_new = (X - X_min)/(X_max - X_min)\n",
        "\n",
        "This scales the range to [0, 1] or sometimes [-1, 1]. Geometrically speaking, transformation squishes the n-dimensional data into an n-dimensional unit hypercube. Normalization is useful when there are no outliers as it cannot cope up with them. Usually, we would scale age and not incomes because only a few people have high incomes but the age is close to uniform.\n",
        "\n",
        "Standardization or Z-Score Normalization is the transformation of features by subtracting from mean and dividing by standard deviation. This is often called as Z-score.\n",
        "\n",
        "X_new = (X - mean)/Std\n",
        "\n",
        "Standardization can be helpful in cases where the data follows a Gaussian distribution. However, this does not have to be necessarily true. Geometrically speaking, it translates the data to the mean vector of original data to the origin and squishes or expands the points if std is 1 respectively. We can see that we are just changing mean and standard deviation to a standard normal distribution which is still normal thus the shape of the distribution is not affected.\n",
        "\n",
        "Standardization does not get affected by outliers because there is no predefined range of transformed features."
      ]
    },
    {
      "cell_type": "code",
      "execution_count": 27,
      "metadata": {
        "colab": {
          "base_uri": "https://localhost:8080/"
        },
        "id": "c1mxHzuI43UY",
        "outputId": "71a3cdaf-068b-4cb0-db60-89ddcaa275c5"
      },
      "outputs": [
        {
          "data": {
            "text/plain": [
              "array([[0.27117366, 0.01415106, 0.1       ],\n",
              "       [0.4722292 , 0.13913574, 0.1       ],\n",
              "       [0.32143755, 0.01546857, 0.        ],\n",
              "       ...,\n",
              "       [0.36792055, 0.04577135, 0.3       ],\n",
              "       [0.32143755, 0.0585561 , 0.        ],\n",
              "       [0.39683338, 0.01512699, 0.        ]])"
            ]
          },
          "execution_count": 27,
          "metadata": {},
          "output_type": "execute_result"
        }
      ],
      "source": [
        "# Your code starts here\n",
        "\n",
        "from sklearn.preprocessing import MinMaxScaler\n",
        "scaling = MinMaxScaler()\n",
        "\n",
        "scaling.fit_transform(train_df[['Age','Fare','Family_members']])\n",
        "\n",
        "# Your code ends here"
      ]
    },
    {
      "cell_type": "code",
      "execution_count": 28,
      "metadata": {
        "colab": {
          "base_uri": "https://localhost:8080/"
        },
        "id": "typ2OKKexapI",
        "outputId": "054e7425-b04f-43b0-e114-13f06f6ff486"
      },
      "outputs": [
        {
          "data": {
            "text/plain": [
              "array([[-0.5924806 , -0.50244517,  0.05915988],\n",
              "       [ 0.63878901,  0.78684529,  0.05915988],\n",
              "       [-0.2846632 , -0.48885426, -0.56097483],\n",
              "       ...,\n",
              "       [ 0.        , -0.17626324,  1.29942929],\n",
              "       [-0.2846632 , -0.04438104, -0.56097483],\n",
              "       [ 0.17706291, -0.49237783, -0.56097483]])"
            ]
          },
          "execution_count": 28,
          "metadata": {},
          "output_type": "execute_result"
        }
      ],
      "source": [
        "from sklearn.preprocessing import StandardScaler\n",
        "scaling1 = StandardScaler()\n",
        "\n",
        "scaling1.fit_transform(train_df[['Age','Fare','Family_members']])"
      ]
    },
    {
      "cell_type": "markdown",
      "metadata": {
        "id": "1YbOCJwp5wQD"
      },
      "source": [
        "### 5.e. One hot encoding\n",
        "Machine Learning models do not understand strings, they understand numbers, that is one of the reasons why we one hot encode few columns\n",
        "refer this link for more information : https://datagy.io/pandas-get-dummies/\n",
        "\n",
        "you can use this or directly look into pandas get_dummies() method to implement this\n",
        "\n",
        "Columns to apply one_hot encoding on:\n",
        "*   Pclass\n",
        "*   Sex\n",
        "*   Title\n",
        "*   Embarked"
      ]
    },
    {
      "cell_type": "code",
      "execution_count": 29,
      "metadata": {
        "id": "V8MVtBf25uxB"
      },
      "outputs": [],
      "source": [
        "# Your code starts here\n",
        "# Columns for one-hot encoding\n",
        "columns_to_encode = ['Pclass', 'Sex', 'Title', 'Embarked']\n",
        "\n",
        "\n",
        "# Apply one-hot encoding using get_dummies\n",
        "encoded_df = pd.get_dummies(train_df, columns=columns_to_encode)\n",
        "\n",
        "# Your code ends here"
      ]
    },
    {
      "cell_type": "code",
      "execution_count": null,
      "metadata": {
        "colab": {
          "base_uri": "https://localhost:8080/"
        },
        "id": "ID6jIU4v5utt",
        "outputId": "61e0afb6-507a-4ccd-b7b1-5f8e6c1d5b1e"
      },
      "outputs": [],
      "source": [
        "# Show your final dataframe here\n",
        "# Print the head of the encoded DataFrame\n",
        "print(encoded_df.head())"
      ]
    },
    {
      "cell_type": "markdown",
      "metadata": {
        "id": "b695egLx6g_a"
      },
      "source": [
        "## Bonus: You can research on the topic of Standardization vs Normalization **only if** you are done with the task, the best research will be edited and featured on the Synapse Instagram page. You can contact us for any doubts regarding this as well! Happy coding! :)"
      ]
    },
    {
      "cell_type": "code",
      "execution_count": null,
      "metadata": {
        "id": "FFlEG2hA7aru"
      },
      "outputs": [],
      "source": []
    }
  ],
  "metadata": {
    "colab": {
      "provenance": []
    },
    "kernelspec": {
      "display_name": "Python 3",
      "name": "python3"
    },
    "language_info": {
      "codemirror_mode": {
        "name": "ipython",
        "version": 3
      },
      "file_extension": ".py",
      "mimetype": "text/x-python",
      "name": "python",
      "nbconvert_exporter": "python",
      "pygments_lexer": "ipython3",
      "version": "3.12.2"
    }
  },
  "nbformat": 4,
  "nbformat_minor": 0
}
