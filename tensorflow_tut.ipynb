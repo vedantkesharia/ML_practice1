{
 "cells": [
  {
   "cell_type": "markdown",
   "metadata": {},
   "source": [
    "In TensorFlow, tensors are multi-dimensional arrays that serve as the fundamental data structure for representing data and performing operations within the framework. TensorFlow is primarily designed for deep learning and numerical computations, and tensors are at the heart of its operations."
   ]
  },
  {
   "cell_type": "code",
   "execution_count": 28,
   "metadata": {},
   "outputs": [],
   "source": [
    "import os\n",
    "os.environ['TF_CPP_MIN_LOG_LEVEL'] = '2'"
   ]
  },
  {
   "cell_type": "code",
   "execution_count": 29,
   "metadata": {},
   "outputs": [],
   "source": [
    "import tensorflow as tf\n",
    "# physical_devices = tf.config.list_physical_devices('GPU')\n",
    "# tf.config.experimental.set_memory_growth(physical_devices[0],True)"
   ]
  },
  {
   "cell_type": "code",
   "execution_count": 30,
   "metadata": {},
   "outputs": [
    {
     "name": "stdout",
     "output_type": "stream",
     "text": [
      "tf.Tensor([1. 3. 5. 7. 9.], shape=(5,), dtype=float64)\n"
     ]
    }
   ],
   "source": [
    "#initialization of Tensors\n",
    "x = tf.constant(4,shape=(1,1),dtype=tf.float32) #you can also give shape and dtype\n",
    "x = tf.constant([[1,2,3],[4,5,6]])\n",
    "x = tf.ones((3,3))\n",
    "x = tf.zeros((2,3))\n",
    "x = tf.eye(3) #I (eye) for identity matrix\n",
    "x = tf.random.normal((3,3),mean = 0,stddev = 1)\n",
    "x = tf.random.uniform((1,3),minval=0,maxval = 1)\n",
    "x = tf.range(start=1,limit=10,delta=2) #delta is basically step\n",
    "x = tf.cast(x,dtype=tf.float64)\n",
    "print(x)"
   ]
  },
  {
   "cell_type": "code",
   "execution_count": 47,
   "metadata": {},
   "outputs": [
    {
     "name": "stdout",
     "output_type": "stream",
     "text": [
      "tf.Tensor([0 1 1 2 3 1 2 3], shape=(8,), dtype=int32)\n",
      "tf.Tensor([1 1 2 3 1 2 3], shape=(7,), dtype=int32)\n",
      "tf.Tensor([1 1], shape=(2,), dtype=int32)\n",
      "tf.Tensor([0 1 3 2], shape=(4,), dtype=int32)\n",
      "tf.Tensor([3 2 1 3 2 1 1 0], shape=(8,), dtype=int32)\n",
      "tf.Tensor([0 2], shape=(2,), dtype=int32)\n",
      "tf.Tensor([1 2], shape=(2,), dtype=int32)\n",
      "tf.Tensor(\n",
      "[[1 2]\n",
      " [3 4]], shape=(2, 2), dtype=int32)\n"
     ]
    }
   ],
   "source": [
    "#Indexing\n",
    "x2 = tf.constant([0,1,1,2,3,1,2,3])\n",
    "print(x2[:]) \n",
    "print(x2[1:]) \n",
    "print(x2[1:3]) #from 1 to 3-1 position ie from 1 to 2 position ie 1,1 \n",
    "print(x2[::2]) #skips in terms of 2 steps  \n",
    "print(x2[::-1]) #reverse  \n",
    "\n",
    "indices = tf.constant([0,3])\n",
    "x_ind = tf.gather(x,indices)\n",
    "print(x_ind)\n",
    "\n",
    "x3 = tf.constant([[1,2],[3,4],[5,6]])\n",
    "\n",
    "print(x3[0]) # or print(x3[0,:]) -> both print the first row and all the columns\n",
    "print(x3[0:2,:]) #print 0 to 2-1 ie 0 to 1 position rows and all the columns \n"
   ]
  },
  {
   "cell_type": "code",
   "execution_count": 51,
   "metadata": {},
   "outputs": [
    {
     "name": "stdout",
     "output_type": "stream",
     "text": [
      "tf.Tensor([0 1 2 3 4 5 6 7 8], shape=(9,), dtype=int32)\n",
      "tf.Tensor(\n",
      "[[0 1 2]\n",
      " [3 4 5]\n",
      " [6 7 8]], shape=(3, 3), dtype=int32)\n",
      "tf.Tensor(\n",
      "[[0 3 6]\n",
      " [1 4 7]\n",
      " [2 5 8]], shape=(3, 3), dtype=int32)\n"
     ]
    }
   ],
   "source": [
    "#Reshaping\n",
    "x4 = tf.range(9)\n",
    "print(x4)\n",
    "\n",
    "x4 = tf.reshape(x4,(3,3))\n",
    "print(x4)\n",
    "\n",
    "x4 = tf.transpose(x4,perm=[1,0])\n",
    "print(x4)\n"
   ]
  }
 ],
 "metadata": {
  "kernelspec": {
   "display_name": "Python 3",
   "language": "python",
   "name": "python3"
  },
  "language_info": {
   "codemirror_mode": {
    "name": "ipython",
    "version": 3
   },
   "file_extension": ".py",
   "mimetype": "text/x-python",
   "name": "python",
   "nbconvert_exporter": "python",
   "pygments_lexer": "ipython3",
   "version": "3.11.0"
  },
  "orig_nbformat": 4
 },
 "nbformat": 4,
 "nbformat_minor": 2
}
